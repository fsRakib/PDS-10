{
 "cells": [
  {
   "cell_type": "code",
   "execution_count": null,
   "metadata": {},
   "outputs": [],
   "source": [
    "from transformers import AutoModel, AutoTokenizer"
   ]
  },
  {
   "cell_type": "code",
   "execution_count": null,
   "metadata": {},
   "outputs": [],
   "source": [
    "\n",
    "# Load the Bangla BERT model and tokenizer\n",
    "model = AutoModel.from_pretrained('sagorsarker/bangla-bert-base')\n",
    "tokenizer = AutoTokenizer.from_pretrained('sagorsarker/bangla-bert-base')\n",
    "\n",
    "# Encode sample Bangla sentences\n",
    "tok = tokenizer.batch_encode_plus(['বেশ বিরক্তিকর', 'পরিস্থিতি নিয়ে চিন্তিত'])\n",
    "print(tok)\n"
   ]
  },
  {
   "cell_type": "code",
   "execution_count": null,
   "metadata": {},
   "outputs": [],
   "source": [
    "from transformers import AutoModel, AutoTokenizer\n",
    "\n",
    "# Pre-download model and tokenizer\n",
    "AutoModel.from_pretrained('sagorsarker/bangla-bert-base')\n",
    "AutoTokenizer.from_pretrained('sagorsarker/bangla-bert-base')\n"
   ]
  }
 ],
 "metadata": {
  "kernelspec": {
   "display_name": "Python 3",
   "language": "python",
   "name": "python3"
  },
  "language_info": {
   "codemirror_mode": {
    "name": "ipython",
    "version": 3
   },
   "file_extension": ".py",
   "mimetype": "text/x-python",
   "name": "python",
   "nbconvert_exporter": "python",
   "pygments_lexer": "ipython3",
   "version": "3.11.9"
  }
 },
 "nbformat": 4,
 "nbformat_minor": 2
}
