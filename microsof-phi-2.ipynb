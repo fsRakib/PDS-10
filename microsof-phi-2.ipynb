{
 "cells": [
  {
   "cell_type": "code",
   "execution_count": 1,
   "metadata": {},
   "outputs": [],
   "source": [
    "import torch\n",
    "from transformers import AutoModelForCausalLM, AutoTokenizer"
   ]
  },
  {
   "cell_type": "code",
   "execution_count": 2,
   "metadata": {},
   "outputs": [],
   "source": [
    "model_name=\"microsoft/phi-2\"\n"
   ]
  },
  {
   "cell_type": "code",
   "execution_count": null,
   "metadata": {},
   "outputs": [],
   "source": [
    "tokenizer = AutoTokenizer.from_pretrained(model_name)\n",
    "tokenizer.save_pretrained(f\"cache/tokenizer/{model_name}\")"
   ]
  },
  {
   "cell_type": "code",
   "execution_count": null,
   "metadata": {},
   "outputs": [
    {
     "name": "stderr",
     "output_type": "stream",
     "text": [
      "Error while downloading from https://cdn-lfs-us-1.hf.co/repos/0b/66/0b662aa2d9932cfa2780256fe6ac653680ac88c327ccf3bff04d53efdc120edb/7fbcdefa72edf7527bf5da40535b57d9f5bd3d16829b94a9d25d2b457df62e84?response-content-disposition=inline%3B+filename*%3DUTF-8%27%27model-00001-of-00002.safetensors%3B+filename%3D%22model-00001-of-00002.safetensors%22%3B&Expires=1737621253&Policy=eyJTdGF0ZW1lbnQiOlt7IkNvbmRpdGlvbiI6eyJEYXRlTGVzc1RoYW4iOnsiQVdTOkVwb2NoVGltZSI6MTczNzYyMTI1M319LCJSZXNvdXJjZSI6Imh0dHBzOi8vY2RuLWxmcy11cy0xLmhmLmNvL3JlcG9zLzBiLzY2LzBiNjYyYWEyZDk5MzJjZmEyNzgwMjU2ZmU2YWM2NTM2ODBhYzg4YzMyN2NjZjNiZmYwNGQ1M2VmZGMxMjBlZGIvN2ZiY2RlZmE3MmVkZjc1MjdiZjVkYTQwNTM1YjU3ZDlmNWJkM2QxNjgyOWI5NGE5ZDI1ZDJiNDU3ZGY2MmU4ND9yZXNwb25zZS1jb250ZW50LWRpc3Bvc2l0aW9uPSoifV19&Signature=iMLhv1QBXMihijX6sd-QkyeXMYzktTKtjFZohQPsVhOXwXu0xDZj%7ETxLZ4UeIT5LOeln4phYNqnWeLxjWhf-2eT-lAebavyca-tDo0bcV8OTBADx7rZzyqsD8UTdofurqLDheKRArLIxXvqZb5G9XKF0MVHETUMKoHpLTegT%7EUoIS3JdhKIj97rt5on4evtCGyP1RVl7BsxaEvoENWkCUHhgwjF2muKswc0i5FfdDgOsj8Xn4O8xgvzMBITvJFSDP5eW1tUqt3mXJgJh5Izqvbmi9XH8O1vzN%7EkZmtNzEWyGTxLcrZHMRXH0JDkppzWnRw6tybArjtkvP2xS4cKR8A__&Key-Pair-Id=K24J24Z295AEI9: HTTPSConnectionPool(host='cdn-lfs-us-1.hf.co', port=443): Read timed out.\n",
      "Trying to resume download...\n"
     ]
    },
    {
     "data": {
      "application/vnd.jupyter.widget-view+json": {
       "model_id": "510d19bfe101404c8826a4f945dc699a",
       "version_major": 2,
       "version_minor": 0
      },
      "text/plain": [
       "model-00001-of-00002.safetensors:  24%|##3       | 1.20G/5.00G [00:00<?, ?B/s]"
      ]
     },
     "metadata": {},
     "output_type": "display_data"
    }
   ],
   "source": [
    "model=AutoModelForCausalLM.from_pretrained(model_name)\n",
    "model.save_pretrained(f\"cache/model/{model_name}\")"
   ]
  },
  {
   "cell_type": "code",
   "execution_count": null,
   "metadata": {},
   "outputs": [],
   "source": [
    "tokenizer = AutoTokenizer.from_pretrained(f\"cache/tokenizer/{model_name}\")\n",
    "model=AutoModelForCausalLM.from_pretrained(f\"cache/model/{model_name}\")"
   ]
  }
 ],
 "metadata": {
  "kernelspec": {
   "display_name": "Python 3",
   "language": "python",
   "name": "python3"
  },
  "language_info": {
   "codemirror_mode": {
    "name": "ipython",
    "version": 3
   },
   "file_extension": ".py",
   "mimetype": "text/x-python",
   "name": "python",
   "nbconvert_exporter": "python",
   "pygments_lexer": "ipython3",
   "version": "3.11.9"
  }
 },
 "nbformat": 4,
 "nbformat_minor": 2
}
