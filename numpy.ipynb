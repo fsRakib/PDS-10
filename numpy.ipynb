{
 "cells": [
  {
   "cell_type": "code",
   "execution_count": 85,
   "metadata": {},
   "outputs": [],
   "source": [
    "import numpy as np"
   ]
  },
  {
   "cell_type": "code",
   "execution_count": 86,
   "metadata": {},
   "outputs": [
    {
     "name": "stdout",
     "output_type": "stream",
     "text": [
      "[11 22  3]\n"
     ]
    }
   ],
   "source": [
    "#1D array\n",
    "arr=np.array(([11,22,3]))\n",
    "print(arr)"
   ]
  },
  {
   "cell_type": "code",
   "execution_count": 87,
   "metadata": {},
   "outputs": [
    {
     "data": {
      "text/plain": [
       "(numpy.ndarray, (3,))"
      ]
     },
     "execution_count": 87,
     "metadata": {},
     "output_type": "execute_result"
    }
   ],
   "source": [
    "type(arr), arr.shape"
   ]
  },
  {
   "cell_type": "code",
   "execution_count": 88,
   "metadata": {},
   "outputs": [
    {
     "name": "stdout",
     "output_type": "stream",
     "text": [
      "[[ 1 22  3]\n",
      " [ 4  5  6]\n",
      " [ 7  8  9]]\n"
     ]
    },
    {
     "data": {
      "text/plain": [
       "(3,)"
      ]
     },
     "execution_count": 88,
     "metadata": {},
     "output_type": "execute_result"
    }
   ],
   "source": [
    "#2D array\n",
    "arr2=np.array(([1,22,3],[4,5,6],[7,8,9]))\n",
    "print(arr2)\n",
    "arr.shape"
   ]
  },
  {
   "cell_type": "code",
   "execution_count": 89,
   "metadata": {},
   "outputs": [
    {
     "name": "stdout",
     "output_type": "stream",
     "text": [
      "[[[ 1  2  3]\n",
      "  [ 3  4  5]]\n",
      "\n",
      " [[37 43 52]\n",
      "  [ 6  7  8]]]\n",
      "3\n",
      "(2, 2, 3)\n",
      "int64\n"
     ]
    }
   ],
   "source": [
    "# Creating an ndarray\n",
    "arrN=np.array(([[1,2,3],[3,4,5]],[[37,43,52],[6,7,8]]))\n",
    "print(arrN)\n",
    "\n",
    "# Properties of ndarray\n",
    "print(arrN.ndim)\n",
    "print(arrN.shape)\n",
    "print(arrN.dtype)"
   ]
  },
  {
   "cell_type": "code",
   "execution_count": 90,
   "metadata": {},
   "outputs": [
    {
     "name": "stdout",
     "output_type": "stream",
     "text": [
      "[1. 2. 3. 4. 4.] float64\n"
     ]
    }
   ],
   "source": [
    "arr4=np.array([1,2,3,4,4], dtype=\"float64\")\n",
    "print(arr4, arr4.dtype)"
   ]
  },
  {
   "cell_type": "code",
   "execution_count": 91,
   "metadata": {},
   "outputs": [
    {
     "name": "stdout",
     "output_type": "stream",
     "text": [
      "[1.+2.j 3.+4.j] complex128\n"
     ]
    }
   ],
   "source": [
    "# Complex dtype\n",
    "arr_c=np.array([1+2j, 3+4j])\n",
    "print(arr_c, arr_c.dtype)"
   ]
  },
  {
   "cell_type": "code",
   "execution_count": 92,
   "metadata": {},
   "outputs": [],
   "source": [
    "arr=np.array([1,2,3,4,5])"
   ]
  },
  {
   "cell_type": "code",
   "execution_count": 93,
   "metadata": {},
   "outputs": [
    {
     "name": "stdout",
     "output_type": "stream",
     "text": [
      "[11 12 13 14 15]\n",
      "[ 2  4  6  8 10]\n"
     ]
    }
   ],
   "source": [
    "\n",
    "print(arr+10)\n",
    "print(arr*2)"
   ]
  },
  {
   "cell_type": "code",
   "execution_count": 94,
   "metadata": {},
   "outputs": [
    {
     "data": {
      "text/plain": [
       "array([1, 2, 3, 4, 5])"
      ]
     },
     "execution_count": 94,
     "metadata": {},
     "output_type": "execute_result"
    }
   ],
   "source": [
    "arr"
   ]
  },
  {
   "cell_type": "code",
   "execution_count": 95,
   "metadata": {},
   "outputs": [
    {
     "name": "stdout",
     "output_type": "stream",
     "text": [
      "15\n",
      "3.0\n",
      "5\n"
     ]
    }
   ],
   "source": [
    "print(arr.sum())\n",
    "print(arr.mean())\n",
    "print(arr.max())"
   ]
  },
  {
   "cell_type": "code",
   "execution_count": 96,
   "metadata": {},
   "outputs": [],
   "source": [
    "arr=np.array([1,2,3,4])\n",
    "arr2=np.array([5,6,7,8])"
   ]
  },
  {
   "cell_type": "code",
   "execution_count": 97,
   "metadata": {},
   "outputs": [
    {
     "name": "stdout",
     "output_type": "stream",
     "text": [
      "[ 6  8 10 12]\n",
      "[ 5 12 21 32]\n"
     ]
    }
   ],
   "source": [
    "print(arr+arr2)\n",
    "print(arr*arr2)"
   ]
  },
  {
   "cell_type": "markdown",
   "metadata": {},
   "source": [
    "ARRAY slicing\n"
   ]
  },
  {
   "cell_type": "code",
   "execution_count": 98,
   "metadata": {},
   "outputs": [
    {
     "data": {
      "text/plain": [
       "array([10, 20, 30, 40, 50])"
      ]
     },
     "execution_count": 98,
     "metadata": {},
     "output_type": "execute_result"
    }
   ],
   "source": [
    "arr=np.array([10,20,30,40,50])\n",
    "arr"
   ]
  },
  {
   "cell_type": "code",
   "execution_count": 99,
   "metadata": {},
   "outputs": [
    {
     "name": "stdout",
     "output_type": "stream",
     "text": [
      "10\n",
      "40\n"
     ]
    }
   ],
   "source": [
    "print(arr[0])\n",
    "print(arr[-2])"
   ]
  },
  {
   "cell_type": "code",
   "execution_count": 100,
   "metadata": {},
   "outputs": [
    {
     "name": "stdout",
     "output_type": "stream",
     "text": [
      "[20 30]\n",
      "[20 30]\n"
     ]
    }
   ],
   "source": [
    "#slice\n",
    "print(arr[1:3])\n",
    "print(arr[-4:-2])"
   ]
  },
  {
   "cell_type": "code",
   "execution_count": 101,
   "metadata": {},
   "outputs": [
    {
     "data": {
      "text/plain": [
       "array([[1, 2, 3],\n",
       "       [2, 3, 4],\n",
       "       [3, 4, 5]])"
      ]
     },
     "execution_count": 101,
     "metadata": {},
     "output_type": "execute_result"
    }
   ],
   "source": [
    "arr=np.array([[1,2,3],[2,3,4],[3,4,5]])\n",
    "arr"
   ]
  },
  {
   "cell_type": "markdown",
   "metadata": {},
   "source": [
    "Advanced Indexing\n"
   ]
  },
  {
   "cell_type": "code",
   "execution_count": 102,
   "metadata": {},
   "outputs": [
    {
     "name": "stdout",
     "output_type": "stream",
     "text": [
      "2\n",
      "(3, 3)\n",
      "[3 4 5]\n"
     ]
    }
   ],
   "source": [
    "arr=np.array([[1,2,3],[2,3,4],[3,4,5]])\n",
    "print(arr.ndim)\n",
    "print(arr.shape)\n",
    "print(arr[-1])"
   ]
  },
  {
   "cell_type": "code",
   "execution_count": 103,
   "metadata": {},
   "outputs": [],
   "source": [
    "arr*=11"
   ]
  },
  {
   "cell_type": "code",
   "execution_count": 104,
   "metadata": {},
   "outputs": [
    {
     "name": "stdout",
     "output_type": "stream",
     "text": [
      "[[11 22 33]\n",
      " [22 33 44]\n",
      " [33 44 55]]\n"
     ]
    }
   ],
   "source": [
    "print(arr)"
   ]
  },
  {
   "cell_type": "code",
   "execution_count": 105,
   "metadata": {},
   "outputs": [
    {
     "name": "stdout",
     "output_type": "stream",
     "text": [
      "[[False False False]\n",
      " [False False  True]\n",
      " [False  True  True]]\n"
     ]
    }
   ],
   "source": [
    "print(arr>35)"
   ]
  },
  {
   "cell_type": "code",
   "execution_count": 106,
   "metadata": {},
   "outputs": [
    {
     "name": "stdout",
     "output_type": "stream",
     "text": [
      "(1, 3, 3)\n"
     ]
    }
   ],
   "source": [
    "print(arr[True].shape)"
   ]
  },
  {
   "cell_type": "code",
   "execution_count": 107,
   "metadata": {},
   "outputs": [
    {
     "name": "stdout",
     "output_type": "stream",
     "text": [
      "11R 22R 33R \n",
      "22R 33R 44R \n",
      "33R 44R 55R \n"
     ]
    }
   ],
   "source": [
    "for row in arr:\n",
    "    for element in row:\n",
    "        print(element, end=\"R \")\n",
    "    print()    "
   ]
  },
  {
   "cell_type": "code",
   "execution_count": 108,
   "metadata": {},
   "outputs": [
    {
     "name": "stdout",
     "output_type": "stream",
     "text": [
      "[ 1  2  3  4  5  6  7  8  9 10]\n"
     ]
    }
   ],
   "source": [
    "arr=np.array([1,2,3,4,5,6,7,8,9,10])\n",
    "print(arr)"
   ]
  },
  {
   "cell_type": "code",
   "execution_count": 109,
   "metadata": {},
   "outputs": [
    {
     "name": "stdout",
     "output_type": "stream",
     "text": [
      "[ 3  6  9 12 15 18 21 24 27 30]\n"
     ]
    }
   ],
   "source": [
    "print(arr*3)"
   ]
  },
  {
   "cell_type": "code",
   "execution_count": 110,
   "metadata": {},
   "outputs": [
    {
     "name": "stdout",
     "output_type": "stream",
     "text": [
      "10\n",
      "5.5\n"
     ]
    }
   ],
   "source": [
    "print(arr.max())\n",
    "print(arr.mean())"
   ]
  },
  {
   "cell_type": "code",
   "execution_count": 111,
   "metadata": {},
   "outputs": [
    {
     "name": "stdout",
     "output_type": "stream",
     "text": [
      "[[0. 0.]\n",
      " [0. 0.]]\n"
     ]
    }
   ],
   "source": [
    "a=np.zeros((2,2))\n",
    "print(a)"
   ]
  },
  {
   "cell_type": "code",
   "execution_count": 112,
   "metadata": {},
   "outputs": [
    {
     "name": "stdout",
     "output_type": "stream",
     "text": [
      "[[1. 1. 1.]\n",
      " [1. 1. 1.]\n",
      " [1. 1. 1.]\n",
      " [1. 1. 1.]\n",
      " [1. 1. 1.]]\n"
     ]
    }
   ],
   "source": [
    "b=np.ones((5,3))\n",
    "print(b)"
   ]
  },
  {
   "cell_type": "code",
   "execution_count": 113,
   "metadata": {},
   "outputs": [
    {
     "name": "stdout",
     "output_type": "stream",
     "text": [
      "[[8 8 8 8 8 8 8]\n",
      " [8 8 8 8 8 8 8]\n",
      " [8 8 8 8 8 8 8]\n",
      " [8 8 8 8 8 8 8]\n",
      " [8 8 8 8 8 8 8]]\n"
     ]
    }
   ],
   "source": [
    "c=np.full((5,7),8)\n",
    "print(c)"
   ]
  },
  {
   "cell_type": "code",
   "execution_count": 114,
   "metadata": {},
   "outputs": [
    {
     "name": "stdout",
     "output_type": "stream",
     "text": [
      "[[1. 0. 0.]\n",
      " [0. 1. 0.]\n",
      " [0. 0. 1.]]\n"
     ]
    }
   ],
   "source": [
    "d=np.eye(3)\n",
    "print(d)"
   ]
  },
  {
   "cell_type": "code",
   "execution_count": 115,
   "metadata": {},
   "outputs": [
    {
     "name": "stdout",
     "output_type": "stream",
     "text": [
      "[[ 72 223 459 507 543 512 434 217]\n",
      " [252 364 176 267 312 133 597 227]\n",
      " [349 748 471  90 385 485 511 506]\n",
      " [ 89 140 703 363 276 430 499 791]]\n"
     ]
    }
   ],
   "source": [
    "e=np.random.randint(800, size=(4,8))\n",
    "print(e)"
   ]
  },
  {
   "cell_type": "code",
   "execution_count": 116,
   "metadata": {},
   "outputs": [
    {
     "data": {
      "text/plain": [
       "array([[252, 364, 176, 267, 312, 133, 597, 227],\n",
       "       [349, 748, 471,  90, 385, 485, 511, 506]], dtype=int32)"
      ]
     },
     "execution_count": 116,
     "metadata": {},
     "output_type": "execute_result"
    }
   ],
   "source": [
    "e[1:3]"
   ]
  },
  {
   "cell_type": "code",
   "execution_count": 117,
   "metadata": {},
   "outputs": [],
   "source": [
    "a=np.array([[1,2,3,4],[4,5,6,7],[8,9,11,12],[13,14,15,16]])"
   ]
  },
  {
   "cell_type": "code",
   "execution_count": 118,
   "metadata": {},
   "outputs": [
    {
     "name": "stdout",
     "output_type": "stream",
     "text": [
      "[ 8  9 11 12] (4,)\n",
      "[[ 5  6]\n",
      " [ 9 11]] (2, 2)\n"
     ]
    }
   ],
   "source": [
    "row_r=a[2,:]\n",
    "row_r2=a[1:3,1:3]\n",
    "print(row_r, row_r.shape)\n",
    "print(row_r2, row_r2.shape )"
   ]
  },
  {
   "cell_type": "code",
   "execution_count": 119,
   "metadata": {},
   "outputs": [
    {
     "data": {
      "text/plain": [
       "array([[ 5,  6],\n",
       "       [ 9, 11],\n",
       "       [14, 15]])"
      ]
     },
     "execution_count": 119,
     "metadata": {},
     "output_type": "execute_result"
    }
   ],
   "source": [
    "a[1:4, 1:3]"
   ]
  },
  {
   "cell_type": "code",
   "execution_count": 120,
   "metadata": {},
   "outputs": [
    {
     "name": "stdout",
     "output_type": "stream",
     "text": [
      "[[ 1  2  3  4]\n",
      " [ 4  5  6  7]\n",
      " [ 8  9 11 12]\n",
      " [13 14 15 16]]\n"
     ]
    }
   ],
   "source": [
    "print(a)"
   ]
  },
  {
   "cell_type": "code",
   "execution_count": 121,
   "metadata": {},
   "outputs": [
    {
     "name": "stdout",
     "output_type": "stream",
     "text": [
      "[ 2  5  9 14] (4,)\n",
      "[[ 2  3]\n",
      " [ 5  6]\n",
      " [ 9 11]\n",
      " [14 15]] (4, 2)\n"
     ]
    }
   ],
   "source": [
    "col_r1=a[:,1]\n",
    "col_r2=a[:, 1:3]\n",
    "print(col_r1, col_r1.shape)\n",
    "print(col_r2, col_r2.shape)"
   ]
  },
  {
   "cell_type": "code",
   "execution_count": 122,
   "metadata": {},
   "outputs": [
    {
     "data": {
      "text/plain": [
       "array([ 6,  8, 10, 12, 14, 16, 18, 20, 22, 24, 26, 28, 30, 32])"
      ]
     },
     "execution_count": 122,
     "metadata": {},
     "output_type": "execute_result"
    }
   ],
   "source": [
    "nums=np.arange(3,17)\n",
    "nums*2"
   ]
  },
  {
   "cell_type": "code",
   "execution_count": 123,
   "metadata": {},
   "outputs": [
    {
     "data": {
      "text/plain": [
       "array([ 3,  4,  5,  6,  7,  8,  9, 10, 11, 12, 13, 14, 15, 16])"
      ]
     },
     "execution_count": 123,
     "metadata": {},
     "output_type": "execute_result"
    }
   ],
   "source": [
    "nums"
   ]
  },
  {
   "cell_type": "code",
   "execution_count": 124,
   "metadata": {},
   "outputs": [
    {
     "data": {
      "text/plain": [
       "array([ 6,  8, 10, 12, 14, 16, 18, 20, 22, 24, 26, 28, 30, 32])"
      ]
     },
     "execution_count": 124,
     "metadata": {},
     "output_type": "execute_result"
    }
   ],
   "source": [
    "nums*=2\n",
    "nums"
   ]
  },
  {
   "cell_type": "code",
   "execution_count": 125,
   "metadata": {},
   "outputs": [
    {
     "name": "stdout",
     "output_type": "stream",
     "text": [
      "19.0\n",
      "32\n"
     ]
    }
   ],
   "source": [
    "print(nums.mean())\n",
    "print(nums.max())"
   ]
  },
  {
   "cell_type": "code",
   "execution_count": 126,
   "metadata": {},
   "outputs": [
    {
     "name": "stdout",
     "output_type": "stream",
     "text": [
      "[[ 1  2  3  4]\n",
      " [ 5  6  7  8]\n",
      " [ 9 10 11 12]]\n",
      "(3, 4)\n"
     ]
    }
   ],
   "source": [
    "nums=np.arange(1,13).reshape(3,4)\n",
    "print(nums)\n",
    "print(nums.shape)"
   ]
  },
  {
   "cell_type": "code",
   "execution_count": 127,
   "metadata": {},
   "outputs": [
    {
     "data": {
      "text/plain": [
       "array([10, 26, 42])"
      ]
     },
     "execution_count": 127,
     "metadata": {},
     "output_type": "execute_result"
    }
   ],
   "source": [
    "np.sum(nums, axis=1)"
   ]
  },
  {
   "cell_type": "code",
   "execution_count": 128,
   "metadata": {},
   "outputs": [
    {
     "name": "stdout",
     "output_type": "stream",
     "text": [
      "[1 2 3]\n",
      "[4 5 5]\n",
      "1\n",
      "2\n",
      "3\n",
      "4\n",
      "5\n",
      "5\n"
     ]
    }
   ],
   "source": [
    "arr=np.array([[1,2,3],[4,5,5]])\n",
    "for row in arr:\n",
    "    print(row)\n",
    "\n",
    "for element in np.nditer(arr):\n",
    "    print(element)"
   ]
  },
  {
   "cell_type": "markdown",
   "metadata": {},
   "source": [
    "Linear Algebra\n"
   ]
  },
  {
   "cell_type": "code",
   "execution_count": 129,
   "metadata": {},
   "outputs": [
    {
     "name": "stdout",
     "output_type": "stream",
     "text": [
      "[[ 1.  2.  3.]\n",
      " [ 5.  6.  7.]\n",
      " [11. 23. 32.]]\n",
      "[[ 6.  7.  8.]\n",
      " [ 8.  9. 10.]\n",
      " [22. 43. 56.]]\n"
     ]
    }
   ],
   "source": [
    "arr1=np.array([[1,2,3],[5,6,7], [11,23,32]],dtype=\"float64\")\n",
    "arr2=np.array([[6,7,8],[8,9,10],[22,43,56]],dtype=\"float64\")\n",
    "print(arr1)\n",
    "print(arr2)"
   ]
  },
  {
   "cell_type": "code",
   "execution_count": 130,
   "metadata": {},
   "outputs": [
    {
     "name": "stdout",
     "output_type": "stream",
     "text": [
      "[[  88.  154.  196.]\n",
      " [ 232.  390.  492.]\n",
      " [ 954. 1660. 2110.]]\n"
     ]
    }
   ],
   "source": [
    "# Perform dot product (matrix multiplication)\n",
    "print(np.dot(arr1, arr2))"
   ]
  },
  {
   "cell_type": "code",
   "execution_count": 131,
   "metadata": {},
   "outputs": [
    {
     "name": "stdout",
     "output_type": "stream",
     "text": [
      "[[ 1.  5. 11.]\n",
      " [ 2.  6. 23.]\n",
      " [ 3.  7. 32.]]\n"
     ]
    }
   ],
   "source": [
    "print(arr1.T)"
   ]
  },
  {
   "cell_type": "code",
   "execution_count": 132,
   "metadata": {},
   "outputs": [
    {
     "name": "stdout",
     "output_type": "stream",
     "text": [
      "Determinant 11.999999999999995\n"
     ]
    }
   ],
   "source": [
    "# Determinant\n",
    "print(\"Determinant\",np.linalg.det(arr1))"
   ]
  },
  {
   "cell_type": "markdown",
   "metadata": {},
   "source": [
    "Sorting, Searching, and Counting"
   ]
  },
  {
   "cell_type": "code",
   "execution_count": 133,
   "metadata": {},
   "outputs": [
    {
     "name": "stdout",
     "output_type": "stream",
     "text": [
      "[  2   2   3   3   4   5   8   9  12  34  45 100]\n"
     ]
    }
   ],
   "source": [
    "arr=np.array([3,45,2,4,8,2,9,12,34,3,100,5])\n",
    "#sorting\n",
    "print(np.sort(arr))"
   ]
  },
  {
   "cell_type": "code",
   "execution_count": 134,
   "metadata": {},
   "outputs": [
    {
     "name": "stdout",
     "output_type": "stream",
     "text": [
      "(array([2, 5]),)\n"
     ]
    }
   ],
   "source": [
    "# Searching\n",
    "print(np.where(arr==2))"
   ]
  },
  {
   "cell_type": "code",
   "execution_count": 135,
   "metadata": {},
   "outputs": [
    {
     "name": "stdout",
     "output_type": "stream",
     "text": [
      "2\n",
      "2\n"
     ]
    },
    {
     "data": {
      "text/plain": [
       "array([ True, False, False, False, False, False, False, False, False,\n",
       "        True, False, False])"
      ]
     },
     "execution_count": 135,
     "metadata": {},
     "output_type": "execute_result"
    }
   ],
   "source": [
    "# Counting\n",
    "print(np.count_nonzero(arr==2))\n",
    "print(np.sum(arr==2))\n",
    "arr==3"
   ]
  },
  {
   "cell_type": "markdown",
   "metadata": {},
   "source": [
    "Exercise"
   ]
  },
  {
   "cell_type": "code",
   "execution_count": 136,
   "metadata": {},
   "outputs": [
    {
     "name": "stdout",
     "output_type": "stream",
     "text": [
      "[[23  2 46 46 50]\n",
      " [44 33 25 20 50]\n",
      " [ 3 22 13  0 17]\n",
      " [45 48 15  9  2]]\n"
     ]
    }
   ],
   "source": [
    "arr=np.random.randint(51, size=(4,5))\n",
    "print(arr)"
   ]
  },
  {
   "cell_type": "code",
   "execution_count": 137,
   "metadata": {},
   "outputs": [
    {
     "name": "stdout",
     "output_type": "stream",
     "text": [
      "25.65\n",
      "[[23 44  3 45]\n",
      " [ 2 33 22 48]\n",
      " [46 25 13 15]\n",
      " [46 20  0  9]\n",
      " [50 50 17  2]]\n",
      "[[23 44  3 45]\n",
      " [ 2 33 22 48]\n",
      " [46 25 13 15]\n",
      " [46 20  0  9]\n",
      " [50 50 17  2]]\n"
     ]
    }
   ],
   "source": [
    "print(arr.mean())\n",
    "print(arr.T)\n",
    "arr2=arr.T\n",
    "print(arr2)"
   ]
  },
  {
   "cell_type": "code",
   "execution_count": 138,
   "metadata": {},
   "outputs": [
    {
     "name": "stdout",
     "output_type": "stream",
     "text": [
      "[46 46 50 44 33 50 45 48]\n"
     ]
    }
   ],
   "source": [
    "print(arr[arr>25])"
   ]
  },
  {
   "cell_type": "code",
   "execution_count": 139,
   "metadata": {},
   "outputs": [
    {
     "name": "stdout",
     "output_type": "stream",
     "text": [
      "[[7265 5648 1561 2335]\n",
      " [5648 6550 2033 4219]\n",
      " [1561 2033  951 1420]\n",
      " [2335 4219 1420 4639]]\n",
      "11.999999999999995\n"
     ]
    }
   ],
   "source": [
    "# matrix multiplication between the original and transposed array\n",
    "print(np.dot(arr,arr2))\n",
    "print(np.linalg.det(arr1))"
   ]
  },
  {
   "cell_type": "markdown",
   "metadata": {},
   "source": [
    "broadcasting"
   ]
  },
  {
   "cell_type": "code",
   "execution_count": 140,
   "metadata": {},
   "outputs": [
    {
     "data": {
      "text/plain": [
       "(array([[4607182418800017408, 4607182418800017408, 4607182418800017408],\n",
       "        [4607182418800017408, 4607182418800017408, 4607182418800017408],\n",
       "        [4607182418800017408, 4607182418800017408, 4607182418800017408],\n",
       "        [4607182418800017408, 4607182418800017408, 4607182418800017408],\n",
       "        [4607182418800017408, 4607182418800017408, 4607182418800017408]]),\n",
       " (5, 3))"
      ]
     },
     "execution_count": 140,
     "metadata": {},
     "output_type": "execute_result"
    }
   ],
   "source": [
    "x=np.array([[11,22,333],[44,55,66],[77,88,99],[111,222,333],[444,555,666]])\n",
    "y=np.empty_like(x)\n",
    "y, y.shape"
   ]
  },
  {
   "cell_type": "code",
   "execution_count": 141,
   "metadata": {},
   "outputs": [
    {
     "data": {
      "text/plain": [
       "array([ 2,  0, -2])"
      ]
     },
     "execution_count": 141,
     "metadata": {},
     "output_type": "execute_result"
    }
   ],
   "source": [
    "v=np.array([2,0,-2])\n",
    "v"
   ]
  },
  {
   "cell_type": "code",
   "execution_count": 142,
   "metadata": {},
   "outputs": [
    {
     "name": "stdout",
     "output_type": "stream",
     "text": [
      "5\n",
      "3\n"
     ]
    }
   ],
   "source": [
    "print(x.shape[0])\n",
    "print(x.shape[1])"
   ]
  },
  {
   "cell_type": "code",
   "execution_count": 143,
   "metadata": {},
   "outputs": [
    {
     "data": {
      "text/plain": [
       "array([[   22,     0,  -666],\n",
       "       [   88,     0,  -132],\n",
       "       [  154,     0,  -198],\n",
       "       [  222,     0,  -666],\n",
       "       [  888,     0, -1332]])"
      ]
     },
     "execution_count": 143,
     "metadata": {},
     "output_type": "execute_result"
    }
   ],
   "source": [
    "for i in range(x.shape[0]): #x.shape[0] is the number of rows\n",
    "    y[i,:]=x[i,:]*v\n",
    "y"
   ]
  },
  {
   "cell_type": "code",
   "execution_count": 144,
   "metadata": {},
   "outputs": [
    {
     "data": {
      "text/plain": [
       "array([[ 2,  0, -2],\n",
       "       [ 2,  0, -2],\n",
       "       [ 2,  0, -2],\n",
       "       [ 2,  0, -2],\n",
       "       [ 2,  0, -2]])"
      ]
     },
     "execution_count": 144,
     "metadata": {},
     "output_type": "execute_result"
    }
   ],
   "source": [
    "v_x=np.tile(v,(5,1))\n",
    "v_x"
   ]
  },
  {
   "cell_type": "code",
   "execution_count": 145,
   "metadata": {},
   "outputs": [
    {
     "data": {
      "text/plain": [
       "array([[ 13,  22, 331],\n",
       "       [ 46,  55,  64],\n",
       "       [ 79,  88,  97],\n",
       "       [113, 222, 331],\n",
       "       [446, 555, 664]])"
      ]
     },
     "execution_count": 145,
     "metadata": {},
     "output_type": "execute_result"
    }
   ],
   "source": [
    "x+v_x"
   ]
  },
  {
   "cell_type": "code",
   "execution_count": 146,
   "metadata": {},
   "outputs": [
    {
     "data": {
      "text/plain": [
       "(array([[ 1,  2,  3],\n",
       "        [ 4,  5,  6],\n",
       "        [ 7,  8,  9],\n",
       "        [10, 11, 12]]),\n",
       " array([[1],\n",
       "        [2],\n",
       "        [1],\n",
       "        [2]]))"
      ]
     },
     "execution_count": 146,
     "metadata": {},
     "output_type": "execute_result"
    }
   ],
   "source": [
    "x=np.array([[1,2,3],[4,5,6],[7,8,9],[10,11,12]])\n",
    "h=np.array([1,2,1,2]).reshape(4,1)\n",
    "x,h"
   ]
  },
  {
   "cell_type": "code",
   "execution_count": 147,
   "metadata": {},
   "outputs": [
    {
     "data": {
      "text/plain": [
       "array([[  2,   2,   3],\n",
       "       [  3,   4,   5],\n",
       "       [  8,   9,  12],\n",
       "       [ 34,  45, 100]])"
      ]
     },
     "execution_count": 147,
     "metadata": {},
     "output_type": "execute_result"
    }
   ],
   "source": [
    "y=np.empty_like(x)\n",
    "y"
   ]
  },
  {
   "cell_type": "code",
   "execution_count": 148,
   "metadata": {},
   "outputs": [
    {
     "data": {
      "text/plain": [
       "array([[ 2,  3,  4],\n",
       "       [ 6,  7,  8],\n",
       "       [ 8,  9, 10],\n",
       "       [12, 13, 14]])"
      ]
     },
     "execution_count": 148,
     "metadata": {},
     "output_type": "execute_result"
    }
   ],
   "source": [
    "for i in range(x.shape[0]):\n",
    "    y[:, i:i+1]=x[:, i:i+1]+h\n",
    "y"
   ]
  },
  {
   "cell_type": "code",
   "execution_count": 149,
   "metadata": {},
   "outputs": [
    {
     "data": {
      "text/plain": [
       "array([[1, 1, 1],\n",
       "       [2, 2, 2],\n",
       "       [1, 1, 1],\n",
       "       [2, 2, 2]])"
      ]
     },
     "execution_count": 149,
     "metadata": {},
     "output_type": "execute_result"
    }
   ],
   "source": [
    "h_x=np.tile(h,(1,3))\n",
    "h_x"
   ]
  },
  {
   "cell_type": "code",
   "execution_count": 150,
   "metadata": {},
   "outputs": [
    {
     "data": {
      "text/plain": [
       "array([[55, 18, 20, 40, 34],\n",
       "       [13, 10, 31, 51, 31],\n",
       "       [20, 51, 34, 38, 23],\n",
       "       [26, 47, 39, 47, 38]], dtype=int32)"
      ]
     },
     "execution_count": 150,
     "metadata": {},
     "output_type": "execute_result"
    }
   ],
   "source": [
    "arr=np.random.randint(10,61, size=(4,5))\n",
    "arr"
   ]
  },
  {
   "cell_type": "code",
   "execution_count": 151,
   "metadata": {},
   "outputs": [
    {
     "name": "stdout",
     "output_type": "stream",
     "text": [
      "[[55 18 20 40 34]\n",
      " [13 10 31 51 31]]\n",
      "[34 31 23 38]\n"
     ]
    }
   ],
   "source": [
    "print(arr[0:2,:])\n",
    "print(arr[:,-1])\n"
   ]
  },
  {
   "cell_type": "code",
   "execution_count": 152,
   "metadata": {},
   "outputs": [
    {
     "data": {
      "text/plain": [
       "array([[ 0, 18, 20,  0,  0],\n",
       "       [13, 10,  0,  0,  0],\n",
       "       [20,  0,  0,  0, 23],\n",
       "       [26,  0,  0,  0,  0]], dtype=int32)"
      ]
     },
     "execution_count": 152,
     "metadata": {},
     "output_type": "execute_result"
    }
   ],
   "source": [
    "arr[arr>30]=0\n",
    "arr"
   ]
  },
  {
   "cell_type": "code",
   "execution_count": 153,
   "metadata": {},
   "outputs": [
    {
     "data": {
      "text/plain": [
       "array([[ 0, 18, 20,  0,  0],\n",
       "       [13, 10,  0,  0,  0],\n",
       "       [20,  0,  0,  0, 23],\n",
       "       [26,  0,  0,  0,  0]], dtype=int32)"
      ]
     },
     "execution_count": 153,
     "metadata": {},
     "output_type": "execute_result"
    }
   ],
   "source": [
    "for row in range(arr.shape[0]):\n",
    "    for col in range(arr.shape[1]):\n",
    "        if arr[row,col]>30:\n",
    "            arr[row,col]=0\n",
    "arr"
   ]
  },
  {
   "cell_type": "code",
   "execution_count": 154,
   "metadata": {},
   "outputs": [
    {
     "name": "stdout",
     "output_type": "stream",
     "text": [
      "130\n",
      "130\n",
      "130\n"
     ]
    }
   ],
   "source": [
    "print(np.sum(arr))\n",
    "print(arr.sum())\n",
    "sum=0\n",
    "for row in range(arr.shape[0]):\n",
    "    for col in range(arr.shape[1]):\n",
    "            sum+=arr[row,col]\n",
    "print(sum)\n"
   ]
  },
  {
   "cell_type": "code",
   "execution_count": 155,
   "metadata": {},
   "outputs": [
    {
     "name": "stdout",
     "output_type": "stream",
     "text": [
      "7.6\n",
      "4.6\n",
      "8.6\n",
      "5.2\n"
     ]
    }
   ],
   "source": [
    "for row in range(arr.shape[0]):\n",
    "    print(arr[row].mean())"
   ]
  },
  {
   "cell_type": "code",
   "execution_count": 156,
   "metadata": {},
   "outputs": [
    {
     "data": {
      "text/plain": [
       "array([7.6, 4.6, 8.6, 5.2])"
      ]
     },
     "execution_count": 156,
     "metadata": {},
     "output_type": "execute_result"
    }
   ],
   "source": [
    "row_mean=np.mean(arr, axis=1)\n",
    "row_mean"
   ]
  },
  {
   "cell_type": "code",
   "execution_count": 158,
   "metadata": {},
   "outputs": [
    {
     "data": {
      "text/plain": [
       "array([[33, 43, 55, 30, 24]], dtype=int32)"
      ]
     },
     "execution_count": 158,
     "metadata": {},
     "output_type": "execute_result"
    }
   ],
   "source": [
    "new_row=np.random.randint(10,61, size=(1,5))\n",
    "new_row"
   ]
  },
  {
   "cell_type": "code",
   "execution_count": 159,
   "metadata": {},
   "outputs": [
    {
     "data": {
      "text/plain": [
       "array([[ 0, 18, 20,  0,  0],\n",
       "       [13, 10,  0,  0,  0],\n",
       "       [20,  0,  0,  0, 23],\n",
       "       [26,  0,  0,  0,  0],\n",
       "       [33, 43, 55, 30, 24]], dtype=int32)"
      ]
     },
     "execution_count": 159,
     "metadata": {},
     "output_type": "execute_result"
    }
   ],
   "source": [
    "new_arr=np.vstack((arr, new_row))\n",
    "new_arr"
   ]
  },
  {
   "cell_type": "code",
   "execution_count": null,
   "metadata": {},
   "outputs": [],
   "source": []
  }
 ],
 "metadata": {
  "kernelspec": {
   "display_name": "Python 3",
   "language": "python",
   "name": "python3"
  },
  "language_info": {
   "codemirror_mode": {
    "name": "ipython",
    "version": 3
   },
   "file_extension": ".py",
   "mimetype": "text/x-python",
   "name": "python",
   "nbconvert_exporter": "python",
   "pygments_lexer": "ipython3",
   "version": "3.11.9"
  }
 },
 "nbformat": 4,
 "nbformat_minor": 2
}
