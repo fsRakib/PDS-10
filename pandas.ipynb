{
 "cells": [
  {
   "cell_type": "code",
   "execution_count": 33,
   "metadata": {},
   "outputs": [],
   "source": [
    "import pandas as pd\n",
    "import numpy as np"
   ]
  },
  {
   "cell_type": "code",
   "execution_count": 34,
   "metadata": {},
   "outputs": [
    {
     "name": "stdout",
     "output_type": "stream",
     "text": [
      "[[30.7532354  13.94130266 20.24244399]\n",
      " [34.78298049 49.97186414 12.60268364]\n",
      " [ 3.96757235 43.9819311   0.46611721]\n",
      " [48.52891508 31.78826075 15.17913699]]\n"
     ]
    }
   ],
   "source": [
    "data = np.random.uniform(0, 50, (4, 3))\n",
    "print(data)"
   ]
  },
  {
   "cell_type": "code",
   "execution_count": 35,
   "metadata": {},
   "outputs": [
    {
     "data": {
      "text/html": [
       "<div>\n",
       "<style scoped>\n",
       "    .dataframe tbody tr th:only-of-type {\n",
       "        vertical-align: middle;\n",
       "    }\n",
       "\n",
       "    .dataframe tbody tr th {\n",
       "        vertical-align: top;\n",
       "    }\n",
       "\n",
       "    .dataframe thead th {\n",
       "        text-align: right;\n",
       "    }\n",
       "</style>\n",
       "<table border=\"1\" class=\"dataframe\">\n",
       "  <thead>\n",
       "    <tr style=\"text-align: right;\">\n",
       "      <th></th>\n",
       "      <th>2021</th>\n",
       "      <th>2022</th>\n",
       "      <th>2023</th>\n",
       "    </tr>\n",
       "  </thead>\n",
       "  <tbody>\n",
       "    <tr>\n",
       "      <th>Dhaka</th>\n",
       "      <td>30.753235</td>\n",
       "      <td>13.941303</td>\n",
       "      <td>20.242444</td>\n",
       "    </tr>\n",
       "    <tr>\n",
       "      <th>Sylhet</th>\n",
       "      <td>34.782980</td>\n",
       "      <td>49.971864</td>\n",
       "      <td>12.602684</td>\n",
       "    </tr>\n",
       "    <tr>\n",
       "      <th>Rajshahi</th>\n",
       "      <td>3.967572</td>\n",
       "      <td>43.981931</td>\n",
       "      <td>0.466117</td>\n",
       "    </tr>\n",
       "    <tr>\n",
       "      <th>Barisal</th>\n",
       "      <td>48.528915</td>\n",
       "      <td>31.788261</td>\n",
       "      <td>15.179137</td>\n",
       "    </tr>\n",
       "  </tbody>\n",
       "</table>\n",
       "</div>"
      ],
      "text/plain": [
       "               2021       2022       2023\n",
       "Dhaka     30.753235  13.941303  20.242444\n",
       "Sylhet    34.782980  49.971864  12.602684\n",
       "Rajshahi   3.967572  43.981931   0.466117\n",
       "Barisal   48.528915  31.788261  15.179137"
      ]
     },
     "execution_count": 35,
     "metadata": {},
     "output_type": "execute_result"
    }
   ],
   "source": [
    "df1=pd.DataFrame(data, index=['Dhaka', 'Sylhet', 'Rajshahi', 'Barisal'], columns=['2021', '2022', '2023'])\n",
    "df1"
   ]
  },
  {
   "cell_type": "code",
   "execution_count": 81,
   "metadata": {},
   "outputs": [
    {
     "name": "stdout",
     "output_type": "stream",
     "text": [
      "Dhaka       64.936982\n",
      "Sylhet      97.357528\n",
      "Rajshahi    48.415621\n",
      "Barisal     95.496313\n",
      "dtype: float64\n"
     ]
    }
   ],
   "source": [
    "print(df1.sum(axis=1))"
   ]
  },
  {
   "cell_type": "code",
   "execution_count": 82,
   "metadata": {},
   "outputs": [
    {
     "name": "stdout",
     "output_type": "stream",
     "text": [
      "2021    118.032703\n",
      "2022    139.683359\n",
      "2023     48.490382\n",
      "dtype: float64\n"
     ]
    }
   ],
   "source": [
    "print(df1.sum(axis=0))"
   ]
  },
  {
   "cell_type": "code",
   "execution_count": 36,
   "metadata": {},
   "outputs": [
    {
     "data": {
      "text/plain": [
       "({'Name': ['Rakib', 'Arif', 'Imroj'],\n",
       "  'Age': [23, 24, 25],\n",
       "  'City': ['Dhaka', 'Rajshahi', 'Khulna']},\n",
       " dict)"
      ]
     },
     "execution_count": 36,
     "metadata": {},
     "output_type": "execute_result"
    }
   ],
   "source": [
    "# Creating a DataFrame from a dictionary\n",
    "data={\n",
    "    'Name':['Rakib','Arif','Imroj'],\n",
    "    'Age':[23,24,25],\n",
    "    'City':['Dhaka','Rajshahi','Khulna']\n",
    "}\n",
    "\n",
    "data, type(data)"
   ]
  },
  {
   "cell_type": "code",
   "execution_count": 37,
   "metadata": {},
   "outputs": [
    {
     "name": "stdout",
     "output_type": "stream",
     "text": [
      "    Name  Age      City\n",
      "0  Rakib   23     Dhaka\n",
      "1   Arif   24  Rajshahi\n",
      "2  Imroj   25    Khulna\n"
     ]
    }
   ],
   "source": [
    "df=pd.DataFrame(data)\n",
    "print(df)"
   ]
  },
  {
   "cell_type": "code",
   "execution_count": 38,
   "metadata": {},
   "outputs": [],
   "source": [
    "data=[\n",
    "[\"Alice\", 25, 'Dhaka', 80],\n",
    "[ \"Bob\", 24, 'Rajshahi', 90],\n",
    "[\"Charlie\", 23, 'Khulna', 85],\n",
    "[\"David\", 22, 'Barishal', 95]\n",
    "]"
   ]
  },
  {
   "cell_type": "code",
   "execution_count": 39,
   "metadata": {},
   "outputs": [
    {
     "name": "stdout",
     "output_type": "stream",
     "text": [
      "      Name  Age      City  Marks\n",
      "0    Alice   25     Dhaka     80\n",
      "1      Bob   24  Rajshahi     90\n",
      "2  Charlie   23    Khulna     85\n",
      "3    David   22  Barishal     95\n"
     ]
    }
   ],
   "source": [
    "df=pd.DataFrame(data, columns=['Name','Age',\"City\", \"Marks\"])\n",
    "print(df)"
   ]
  },
  {
   "cell_type": "code",
   "execution_count": 40,
   "metadata": {},
   "outputs": [
    {
     "name": "stdout",
     "output_type": "stream",
     "text": [
      "Name     object\n",
      "Age       int64\n",
      "City     object\n",
      "Marks     int64\n",
      "Grade    object\n",
      "dtype: object\n",
      "      Name  Age      City  Marks Grade\n",
      "0    Alice   25     Dhaka     80     B\n",
      "1      Bob   24  Rajshahi     90     A\n",
      "2  Charlie   23    Khulna     85     B\n",
      "3    David   22  Barishal     95    A+\n"
     ]
    }
   ],
   "source": [
    "df['Grade'] = ['B', 'A', 'B', 'A+']\n",
    "\n",
    "print(df.dtypes)\n",
    "print(df)"
   ]
  },
  {
   "cell_type": "code",
   "execution_count": 41,
   "metadata": {},
   "outputs": [
    {
     "data": {
      "text/plain": [
       "<Axes: xlabel='Name'>"
      ]
     },
     "execution_count": 41,
     "metadata": {},
     "output_type": "execute_result"
    },
    {
     "data": {
      "image/png": "[encoded data removed]",
      "text/plain": [
       "<Figure size 640x480 with 1 Axes>"
      ]
     },
     "metadata": {},
     "output_type": "display_data"
    }
   ],
   "source": [
    "df.plot(x='Name', y='Marks', kind='bar')"
   ]
  },
  {
   "cell_type": "code",
   "execution_count": 42,
   "metadata": {},
   "outputs": [
    {
     "name": "stdout",
     "output_type": "stream",
     "text": [
      "A    5\n",
      "B    4\n",
      "C    3\n",
      "D    2\n",
      "E    1\n",
      "F    0\n",
      "Name: count, dtype: int64\n"
     ]
    }
   ],
   "source": [
    "# Pandas series | 1D\n",
    "data_series=pd.Series([5,4,3,2,1,0], name=\"count\", index=['A','B','C','D','E','F'])\n",
    "print(data_series)"
   ]
  },
  {
   "cell_type": "markdown",
   "metadata": {},
   "source": [
    "Dealing with Rows and Columns"
   ]
  },
  {
   "cell_type": "code",
   "execution_count": 43,
   "metadata": {},
   "outputs": [
    {
     "data": {
      "text/plain": [
       "{'Name': ['Rakib', 'Arif', 'Imroj'],\n",
       " 'Age': [23, 24, 25],\n",
       " 'City': ['Dhaka', 'Rajshahi', 'Khulna']}"
      ]
     },
     "execution_count": 43,
     "metadata": {},
     "output_type": "execute_result"
    }
   ],
   "source": [
    "# Creating a DataFrame from a dictionary\n",
    "data={\n",
    "    \"Name\":['Rakib','Arif','Imroj'],\n",
    "    \"Age\":[23,24,25],\n",
    "    \"City\":['Dhaka','Rajshahi','Khulna']\n",
    "}\n",
    "\n",
    "data"
   ]
  },
  {
   "cell_type": "code",
   "execution_count": 44,
   "metadata": {},
   "outputs": [
    {
     "name": "stdout",
     "output_type": "stream",
     "text": [
      "    Name  Age      City\n",
      "0  Rakib   23     Dhaka\n",
      "1   Arif   24  Rajshahi\n",
      "2  Imroj   25    Khulna\n"
     ]
    }
   ],
   "source": [
    "df=pd.DataFrame(data)\n",
    "print(df)"
   ]
  },
  {
   "cell_type": "code",
   "execution_count": 45,
   "metadata": {},
   "outputs": [
    {
     "name": "stdout",
     "output_type": "stream",
     "text": [
      "    Name  Age      City   Salary\n",
      "0  Rakib   23     Dhaka  50000.0\n",
      "1   Arif   24  Rajshahi      NaN\n",
      "2  Imroj   25    Khulna  70000.0\n"
     ]
    }
   ],
   "source": [
    "# Adding a new column\n",
    "df['Salary']=[50000, None, 70000]\n",
    "print(df)"
   ]
  },
  {
   "cell_type": "code",
   "execution_count": 46,
   "metadata": {},
   "outputs": [
    {
     "name": "stdout",
     "output_type": "stream",
     "text": [
      "    Name  Age      City   Income\n",
      "0  Rakib   23     Dhaka  50000.0\n",
      "1   Arif   24  Rajshahi      NaN\n",
      "2  Imroj   25    Khulna  70000.0\n"
     ]
    }
   ],
   "source": [
    "# Renaming a column\n",
    "df.rename(columns={'Salary':\"Income\"}, inplace=True)\n",
    "print(df)"
   ]
  },
  {
   "cell_type": "code",
   "execution_count": 47,
   "metadata": {},
   "outputs": [
    {
     "name": "stdout",
     "output_type": "stream",
     "text": [
      "    Name  Age    City   Income\n",
      "0  Rakib   23   Dhaka  50000.0\n",
      "2  Imroj   25  Khulna  70000.0\n"
     ]
    }
   ],
   "source": [
    "# Dropping a row\n",
    "df_dropped=df.drop(index=1)\n",
    "print(df_dropped)"
   ]
  },
  {
   "cell_type": "code",
   "execution_count": 48,
   "metadata": {},
   "outputs": [
    {
     "name": "stdout",
     "output_type": "stream",
     "text": [
      "    Name  Age    City   Income\n",
      "0  Rakib   23   Dhaka  50000.0\n",
      "1  Imroj   25  Khulna  70000.0\n"
     ]
    }
   ],
   "source": [
    "# Resetting the index\n",
    "df_reset=df_dropped.reset_index(drop=True)\n",
    "print(df_reset)\n"
   ]
  },
  {
   "cell_type": "code",
   "execution_count": 49,
   "metadata": {},
   "outputs": [
    {
     "data": {
      "text/html": [
       "<div>\n",
       "<style scoped>\n",
       "    .dataframe tbody tr th:only-of-type {\n",
       "        vertical-align: middle;\n",
       "    }\n",
       "\n",
       "    .dataframe tbody tr th {\n",
       "        vertical-align: top;\n",
       "    }\n",
       "\n",
       "    .dataframe thead th {\n",
       "        text-align: right;\n",
       "    }\n",
       "</style>\n",
       "<table border=\"1\" class=\"dataframe\">\n",
       "  <thead>\n",
       "    <tr style=\"text-align: right;\">\n",
       "      <th></th>\n",
       "      <th>Name</th>\n",
       "      <th>Age</th>\n",
       "      <th>City</th>\n",
       "      <th>Income</th>\n",
       "    </tr>\n",
       "  </thead>\n",
       "  <tbody>\n",
       "    <tr>\n",
       "      <th>0</th>\n",
       "      <td>Rakib</td>\n",
       "      <td>23</td>\n",
       "      <td>Dhaka</td>\n",
       "      <td>50000.0</td>\n",
       "    </tr>\n",
       "    <tr>\n",
       "      <th>1</th>\n",
       "      <td>Arif</td>\n",
       "      <td>24</td>\n",
       "      <td>Rajshahi</td>\n",
       "      <td>NaN</td>\n",
       "    </tr>\n",
       "    <tr>\n",
       "      <th>2</th>\n",
       "      <td>Imroj</td>\n",
       "      <td>25</td>\n",
       "      <td>Khulna</td>\n",
       "      <td>70000.0</td>\n",
       "    </tr>\n",
       "  </tbody>\n",
       "</table>\n",
       "</div>"
      ],
      "text/plain": [
       "    Name  Age      City   Income\n",
       "0  Rakib   23     Dhaka  50000.0\n",
       "1   Arif   24  Rajshahi      NaN\n",
       "2  Imroj   25    Khulna  70000.0"
      ]
     },
     "execution_count": 49,
     "metadata": {},
     "output_type": "execute_result"
    }
   ],
   "source": [
    "df"
   ]
  },
  {
   "cell_type": "code",
   "execution_count": 50,
   "metadata": {},
   "outputs": [
    {
     "data": {
      "text/html": [
       "<div>\n",
       "<style scoped>\n",
       "    .dataframe tbody tr th:only-of-type {\n",
       "        vertical-align: middle;\n",
       "    }\n",
       "\n",
       "    .dataframe tbody tr th {\n",
       "        vertical-align: top;\n",
       "    }\n",
       "\n",
       "    .dataframe thead th {\n",
       "        text-align: right;\n",
       "    }\n",
       "</style>\n",
       "<table border=\"1\" class=\"dataframe\">\n",
       "  <thead>\n",
       "    <tr style=\"text-align: right;\">\n",
       "      <th></th>\n",
       "      <th>Name</th>\n",
       "      <th>City</th>\n",
       "      <th>Income</th>\n",
       "    </tr>\n",
       "  </thead>\n",
       "  <tbody>\n",
       "    <tr>\n",
       "      <th>0</th>\n",
       "      <td>Rakib</td>\n",
       "      <td>Dhaka</td>\n",
       "      <td>50000.0</td>\n",
       "    </tr>\n",
       "    <tr>\n",
       "      <th>1</th>\n",
       "      <td>Arif</td>\n",
       "      <td>Rajshahi</td>\n",
       "      <td>NaN</td>\n",
       "    </tr>\n",
       "    <tr>\n",
       "      <th>2</th>\n",
       "      <td>Imroj</td>\n",
       "      <td>Khulna</td>\n",
       "      <td>70000.0</td>\n",
       "    </tr>\n",
       "  </tbody>\n",
       "</table>\n",
       "</div>"
      ],
      "text/plain": [
       "    Name      City   Income\n",
       "0  Rakib     Dhaka  50000.0\n",
       "1   Arif  Rajshahi      NaN\n",
       "2  Imroj    Khulna  70000.0"
      ]
     },
     "execution_count": 50,
     "metadata": {},
     "output_type": "execute_result"
    }
   ],
   "source": [
    "df.drop(columns=['Age'], inplace=True)\n",
    "df"
   ]
  },
  {
   "cell_type": "markdown",
   "metadata": {},
   "source": [
    "Indexing and Selecting Data"
   ]
  },
  {
   "cell_type": "code",
   "execution_count": 51,
   "metadata": {},
   "outputs": [
    {
     "name": "stdout",
     "output_type": "stream",
     "text": [
      "    Name      City   Income\n",
      "0  Rakib     Dhaka  50000.0\n",
      "1   Arif  Rajshahi      NaN\n"
     ]
    }
   ],
   "source": [
    "# Selecting multiple rows\n",
    "print(df.iloc[:2])"
   ]
  },
  {
   "cell_type": "code",
   "execution_count": 52,
   "metadata": {},
   "outputs": [
    {
     "name": "stdout",
     "output_type": "stream",
     "text": [
      "    Name      City   Income\n",
      "0  Rakib     Dhaka  50000.0\n",
      "1   Arif  Rajshahi      NaN\n",
      "2  Imroj    Khulna  70000.0\n"
     ]
    }
   ],
   "source": [
    "# Selecting rows with labels\n",
    "print(df.loc[0:2])"
   ]
  },
  {
   "cell_type": "code",
   "execution_count": 53,
   "metadata": {},
   "outputs": [
    {
     "name": "stdout",
     "output_type": "stream",
     "text": [
      "    Name      City\n",
      "0  Rakib     Dhaka\n",
      "1   Arif  Rajshahi\n"
     ]
    }
   ],
   "source": [
    "# Selecting rows and columns\n",
    "print(df.loc[0:1, ['Name', 'City']])"
   ]
  },
  {
   "cell_type": "code",
   "execution_count": 54,
   "metadata": {},
   "outputs": [
    {
     "data": {
      "text/html": [
       "<div>\n",
       "<style scoped>\n",
       "    .dataframe tbody tr th:only-of-type {\n",
       "        vertical-align: middle;\n",
       "    }\n",
       "\n",
       "    .dataframe tbody tr th {\n",
       "        vertical-align: top;\n",
       "    }\n",
       "\n",
       "    .dataframe thead th {\n",
       "        text-align: right;\n",
       "    }\n",
       "</style>\n",
       "<table border=\"1\" class=\"dataframe\">\n",
       "  <thead>\n",
       "    <tr style=\"text-align: right;\">\n",
       "      <th></th>\n",
       "      <th>A</th>\n",
       "      <th>B</th>\n",
       "      <th>C</th>\n",
       "    </tr>\n",
       "  </thead>\n",
       "  <tbody>\n",
       "    <tr>\n",
       "      <th>0</th>\n",
       "      <td>1</td>\n",
       "      <td>4</td>\n",
       "      <td>7</td>\n",
       "    </tr>\n",
       "    <tr>\n",
       "      <th>1</th>\n",
       "      <td>2</td>\n",
       "      <td>5</td>\n",
       "      <td>8</td>\n",
       "    </tr>\n",
       "    <tr>\n",
       "      <th>2</th>\n",
       "      <td>3</td>\n",
       "      <td>6</td>\n",
       "      <td>9</td>\n",
       "    </tr>\n",
       "  </tbody>\n",
       "</table>\n",
       "</div>"
      ],
      "text/plain": [
       "   A  B  C\n",
       "0  1  4  7\n",
       "1  2  5  8\n",
       "2  3  6  9"
      ]
     },
     "execution_count": 54,
     "metadata": {},
     "output_type": "execute_result"
    }
   ],
   "source": [
    "data_A={\n",
    "    \"A\":[1,2,3],\n",
    "    'B':[4,5,6],\n",
    "    'C':[7,8,9]\n",
    "}\n",
    "df=pd.DataFrame(data_A)\n",
    "df"
   ]
  },
  {
   "cell_type": "code",
   "execution_count": 55,
   "metadata": {},
   "outputs": [
    {
     "name": "stdout",
     "output_type": "stream",
     "text": [
      "   A  B  C\n",
      "1  2  5  8\n",
      "2  3  6  9\n"
     ]
    }
   ],
   "source": [
    "print(df.loc[1:2, 'A':'C'])"
   ]
  },
  {
   "cell_type": "markdown",
   "metadata": {},
   "source": [
    "Boolean Indexing"
   ]
  },
  {
   "cell_type": "code",
   "execution_count": 56,
   "metadata": {},
   "outputs": [
    {
     "data": {
      "text/html": [
       "<div>\n",
       "<style scoped>\n",
       "    .dataframe tbody tr th:only-of-type {\n",
       "        vertical-align: middle;\n",
       "    }\n",
       "\n",
       "    .dataframe tbody tr th {\n",
       "        vertical-align: top;\n",
       "    }\n",
       "\n",
       "    .dataframe thead th {\n",
       "        text-align: right;\n",
       "    }\n",
       "</style>\n",
       "<table border=\"1\" class=\"dataframe\">\n",
       "  <thead>\n",
       "    <tr style=\"text-align: right;\">\n",
       "      <th></th>\n",
       "      <th>name</th>\n",
       "      <th>age</th>\n",
       "      <th>city</th>\n",
       "    </tr>\n",
       "  </thead>\n",
       "  <tbody>\n",
       "    <tr>\n",
       "      <th>0</th>\n",
       "      <td>Arka</td>\n",
       "      <td>23</td>\n",
       "      <td>Dhaka</td>\n",
       "    </tr>\n",
       "    <tr>\n",
       "      <th>1</th>\n",
       "      <td>Morshed</td>\n",
       "      <td>24</td>\n",
       "      <td>Rajshahi</td>\n",
       "    </tr>\n",
       "    <tr>\n",
       "      <th>2</th>\n",
       "      <td>Siam</td>\n",
       "      <td>25</td>\n",
       "      <td>Khulna</td>\n",
       "    </tr>\n",
       "  </tbody>\n",
       "</table>\n",
       "</div>"
      ],
      "text/plain": [
       "      name  age      city\n",
       "0     Arka   23     Dhaka\n",
       "1  Morshed   24  Rajshahi\n",
       "2     Siam   25    Khulna"
      ]
     },
     "execution_count": 56,
     "metadata": {},
     "output_type": "execute_result"
    }
   ],
   "source": [
    "# Creating a DataFrame from a dictionary\n",
    "data={\n",
    "    'name': ['Arka', 'Morshed', 'Siam'],\n",
    "    'age': [23, 24, 25],\n",
    "    'city': ['Dhaka', 'Rajshahi', 'Khulna']\n",
    "}\n",
    "\n",
    "df=pd.DataFrame(data)\n",
    "df"
   ]
  },
  {
   "cell_type": "code",
   "execution_count": 57,
   "metadata": {},
   "outputs": [
    {
     "data": {
      "text/plain": [
       "0    False\n",
       "1    False\n",
       "2     True\n",
       "dtype: bool"
      ]
     },
     "execution_count": 57,
     "metadata": {},
     "output_type": "execute_result"
    }
   ],
   "source": [
    "(df['age']>24) & (df['city']=='Khulna')"
   ]
  },
  {
   "cell_type": "code",
   "execution_count": 58,
   "metadata": {},
   "outputs": [
    {
     "data": {
      "text/html": [
       "<div>\n",
       "<style scoped>\n",
       "    .dataframe tbody tr th:only-of-type {\n",
       "        vertical-align: middle;\n",
       "    }\n",
       "\n",
       "    .dataframe tbody tr th {\n",
       "        vertical-align: top;\n",
       "    }\n",
       "\n",
       "    .dataframe thead th {\n",
       "        text-align: right;\n",
       "    }\n",
       "</style>\n",
       "<table border=\"1\" class=\"dataframe\">\n",
       "  <thead>\n",
       "    <tr style=\"text-align: right;\">\n",
       "      <th></th>\n",
       "      <th>name</th>\n",
       "      <th>age</th>\n",
       "      <th>city</th>\n",
       "    </tr>\n",
       "  </thead>\n",
       "  <tbody>\n",
       "    <tr>\n",
       "      <th>2</th>\n",
       "      <td>Siam</td>\n",
       "      <td>25</td>\n",
       "      <td>Khulna</td>\n",
       "    </tr>\n",
       "  </tbody>\n",
       "</table>\n",
       "</div>"
      ],
      "text/plain": [
       "   name  age    city\n",
       "2  Siam   25  Khulna"
      ]
     },
     "execution_count": 58,
     "metadata": {},
     "output_type": "execute_result"
    }
   ],
   "source": [
    "df[(df['age']>24) & (df['city']=='Khulna')]"
   ]
  },
  {
   "cell_type": "code",
   "execution_count": 59,
   "metadata": {},
   "outputs": [
    {
     "name": "stdout",
     "output_type": "stream",
     "text": [
      "   name  age    city\n",
      "2  Siam   25  Khulna\n"
     ]
    }
   ],
   "source": [
    "# Filter rows where Age > 25\n",
    "filtered = df[(df['age']>24)& (df['city']=='Khulna')]\n",
    "print(filtered)"
   ]
  },
  {
   "cell_type": "markdown",
   "metadata": {},
   "source": [
    "Working with Missing Data"
   ]
  },
  {
   "cell_type": "code",
   "execution_count": 60,
   "metadata": {},
   "outputs": [
    {
     "data": {
      "text/html": [
       "<div>\n",
       "<style scoped>\n",
       "    .dataframe tbody tr th:only-of-type {\n",
       "        vertical-align: middle;\n",
       "    }\n",
       "\n",
       "    .dataframe tbody tr th {\n",
       "        vertical-align: top;\n",
       "    }\n",
       "\n",
       "    .dataframe thead th {\n",
       "        text-align: right;\n",
       "    }\n",
       "</style>\n",
       "<table border=\"1\" class=\"dataframe\">\n",
       "  <thead>\n",
       "    <tr style=\"text-align: right;\">\n",
       "      <th></th>\n",
       "      <th>Name</th>\n",
       "      <th>Age</th>\n",
       "    </tr>\n",
       "  </thead>\n",
       "  <tbody>\n",
       "    <tr>\n",
       "      <th>0</th>\n",
       "      <td>Rakib</td>\n",
       "      <td>23.0</td>\n",
       "    </tr>\n",
       "    <tr>\n",
       "      <th>1</th>\n",
       "      <td>None</td>\n",
       "      <td>24.0</td>\n",
       "    </tr>\n",
       "    <tr>\n",
       "      <th>2</th>\n",
       "      <td>Imroj</td>\n",
       "      <td>NaN</td>\n",
       "    </tr>\n",
       "  </tbody>\n",
       "</table>\n",
       "</div>"
      ],
      "text/plain": [
       "    Name   Age\n",
       "0  Rakib  23.0\n",
       "1   None  24.0\n",
       "2  Imroj   NaN"
      ]
     },
     "execution_count": 60,
     "metadata": {},
     "output_type": "execute_result"
    }
   ],
   "source": [
    "# Handling missing data\n",
    "data={\n",
    "    'Name':['Rakib',None,'Imroj'],\n",
    "    'Age':[23,24,None],\n",
    "}\n",
    "df=pd.DataFrame(data)\n",
    "df\n"
   ]
  },
  {
   "cell_type": "code",
   "execution_count": 61,
   "metadata": {},
   "outputs": [
    {
     "data": {
      "text/plain": [
       "0    True\n",
       "1    True\n",
       "2    True\n",
       "Name: Age, dtype: bool"
      ]
     },
     "execution_count": 61,
     "metadata": {},
     "output_type": "execute_result"
    }
   ],
   "source": [
    "df['Age']!=None"
   ]
  },
  {
   "cell_type": "code",
   "execution_count": 62,
   "metadata": {},
   "outputs": [
    {
     "name": "stdout",
     "output_type": "stream",
     "text": [
      "    Name    Age\n",
      "0  False  False\n",
      "1   True  False\n",
      "2  False   True\n"
     ]
    }
   ],
   "source": [
    "# Identify missing values\n",
    "print(df.isnull())"
   ]
  },
  {
   "cell_type": "code",
   "execution_count": 63,
   "metadata": {},
   "outputs": [
    {
     "name": "stdout",
     "output_type": "stream",
     "text": [
      "      Name   Age\n",
      "0    Rakib  23.0\n",
      "1  Unknown  24.0\n",
      "2    Imroj  23.5\n"
     ]
    }
   ],
   "source": [
    "# Fill missing values\n",
    "df_filled=df.fillna({'Name':'Unknown','Age':df['Age'].mean()})\n",
    "print(df_filled)"
   ]
  },
  {
   "cell_type": "code",
   "execution_count": 64,
   "metadata": {},
   "outputs": [
    {
     "name": "stdout",
     "output_type": "stream",
     "text": [
      "    Name   Age\n",
      "0  Rakib  23.0\n",
      "1   None  24.0\n",
      "2  Imroj   NaN\n",
      "==================\n",
      "    Name   Age\n",
      "0  Rakib  23.0\n"
     ]
    }
   ],
   "source": [
    "# Drop rows with missing values\n",
    "print(df)\n",
    "print(\"==================\")\n",
    "df_dropped=df.dropna()\n",
    "print(df_dropped)"
   ]
  },
  {
   "cell_type": "markdown",
   "metadata": {},
   "source": [
    "Read and Write CSV Files"
   ]
  },
  {
   "cell_type": "code",
   "execution_count": 65,
   "metadata": {},
   "outputs": [
    {
     "name": "stdout",
     "output_type": "stream",
     "text": [
      "       longitude  latitude  housingMedianAge  totalRooms  totalBedrooms  \\\n",
      "0        -114.31     34.19                15        5612           1283   \n",
      "1        -114.47     34.40                19        7650           1901   \n",
      "2        -114.56     33.69                17         720            174   \n",
      "3        -114.57     33.64                14        1501            337   \n",
      "4        -114.57     33.57                20        1454            326   \n",
      "...          ...       ...               ...         ...            ...   \n",
      "16995    -124.26     40.58                52        2217            394   \n",
      "16996    -124.27     40.69                36        2349            528   \n",
      "16997    -124.30     41.84                17        2677            531   \n",
      "16998    -124.30     41.80                19        2672            552   \n",
      "16999    -124.35     40.54                52        1820            300   \n",
      "\n",
      "       population  households  medianIncome  medianHouseValue  \n",
      "0            1015         472        1.4936             66900  \n",
      "1            1129         463        1.8200             80100  \n",
      "2             333         117        1.6509             85700  \n",
      "3             515         226        3.1917             73400  \n",
      "4             624         262        1.9250             65500  \n",
      "...           ...         ...           ...               ...  \n",
      "16995         907         369        2.3571            111400  \n",
      "16996        1194         465        2.5179             79000  \n",
      "16997        1244         456        3.0313            103600  \n",
      "16998        1298         478        1.9797             85800  \n",
      "16999         806         270        3.0147             94600  \n",
      "\n",
      "[17000 rows x 9 columns]\n"
     ]
    }
   ],
   "source": [
    "df=pd.read_csv('R:\\PDS-10\\california_housing_train.csv')\n",
    "print(df)"
   ]
  },
  {
   "cell_type": "code",
   "execution_count": 66,
   "metadata": {},
   "outputs": [
    {
     "data": {
      "text/html": [
       "<div>\n",
       "<style scoped>\n",
       "    .dataframe tbody tr th:only-of-type {\n",
       "        vertical-align: middle;\n",
       "    }\n",
       "\n",
       "    .dataframe tbody tr th {\n",
       "        vertical-align: top;\n",
       "    }\n",
       "\n",
       "    .dataframe thead th {\n",
       "        text-align: right;\n",
       "    }\n",
       "</style>\n",
       "<table border=\"1\" class=\"dataframe\">\n",
       "  <thead>\n",
       "    <tr style=\"text-align: right;\">\n",
       "      <th></th>\n",
       "      <th>longitude</th>\n",
       "      <th>latitude</th>\n",
       "      <th>housingMedianAge</th>\n",
       "      <th>totalRooms</th>\n",
       "      <th>totalBedrooms</th>\n",
       "      <th>population</th>\n",
       "      <th>households</th>\n",
       "      <th>medianIncome</th>\n",
       "      <th>medianHouseValue</th>\n",
       "    </tr>\n",
       "  </thead>\n",
       "  <tbody>\n",
       "    <tr>\n",
       "      <th>0</th>\n",
       "      <td>-114.31</td>\n",
       "      <td>34.19</td>\n",
       "      <td>15</td>\n",
       "      <td>5612</td>\n",
       "      <td>1283</td>\n",
       "      <td>1015</td>\n",
       "      <td>472</td>\n",
       "      <td>1.4936</td>\n",
       "      <td>66900</td>\n",
       "    </tr>\n",
       "    <tr>\n",
       "      <th>1</th>\n",
       "      <td>-114.47</td>\n",
       "      <td>34.40</td>\n",
       "      <td>19</td>\n",
       "      <td>7650</td>\n",
       "      <td>1901</td>\n",
       "      <td>1129</td>\n",
       "      <td>463</td>\n",
       "      <td>1.8200</td>\n",
       "      <td>80100</td>\n",
       "    </tr>\n",
       "    <tr>\n",
       "      <th>2</th>\n",
       "      <td>-114.56</td>\n",
       "      <td>33.69</td>\n",
       "      <td>17</td>\n",
       "      <td>720</td>\n",
       "      <td>174</td>\n",
       "      <td>333</td>\n",
       "      <td>117</td>\n",
       "      <td>1.6509</td>\n",
       "      <td>85700</td>\n",
       "    </tr>\n",
       "    <tr>\n",
       "      <th>3</th>\n",
       "      <td>-114.57</td>\n",
       "      <td>33.64</td>\n",
       "      <td>14</td>\n",
       "      <td>1501</td>\n",
       "      <td>337</td>\n",
       "      <td>515</td>\n",
       "      <td>226</td>\n",
       "      <td>3.1917</td>\n",
       "      <td>73400</td>\n",
       "    </tr>\n",
       "    <tr>\n",
       "      <th>4</th>\n",
       "      <td>-114.57</td>\n",
       "      <td>33.57</td>\n",
       "      <td>20</td>\n",
       "      <td>1454</td>\n",
       "      <td>326</td>\n",
       "      <td>624</td>\n",
       "      <td>262</td>\n",
       "      <td>1.9250</td>\n",
       "      <td>65500</td>\n",
       "    </tr>\n",
       "  </tbody>\n",
       "</table>\n",
       "</div>"
      ],
      "text/plain": [
       "   longitude  latitude  housingMedianAge  totalRooms  totalBedrooms  \\\n",
       "0    -114.31     34.19                15        5612           1283   \n",
       "1    -114.47     34.40                19        7650           1901   \n",
       "2    -114.56     33.69                17         720            174   \n",
       "3    -114.57     33.64                14        1501            337   \n",
       "4    -114.57     33.57                20        1454            326   \n",
       "\n",
       "   population  households  medianIncome  medianHouseValue  \n",
       "0        1015         472        1.4936             66900  \n",
       "1        1129         463        1.8200             80100  \n",
       "2         333         117        1.6509             85700  \n",
       "3         515         226        3.1917             73400  \n",
       "4         624         262        1.9250             65500  "
      ]
     },
     "execution_count": 66,
     "metadata": {},
     "output_type": "execute_result"
    }
   ],
   "source": [
    "df.head()"
   ]
  },
  {
   "cell_type": "code",
   "execution_count": 67,
   "metadata": {},
   "outputs": [
    {
     "data": {
      "text/html": [
       "<div>\n",
       "<style scoped>\n",
       "    .dataframe tbody tr th:only-of-type {\n",
       "        vertical-align: middle;\n",
       "    }\n",
       "\n",
       "    .dataframe tbody tr th {\n",
       "        vertical-align: top;\n",
       "    }\n",
       "\n",
       "    .dataframe thead th {\n",
       "        text-align: right;\n",
       "    }\n",
       "</style>\n",
       "<table border=\"1\" class=\"dataframe\">\n",
       "  <thead>\n",
       "    <tr style=\"text-align: right;\">\n",
       "      <th></th>\n",
       "      <th>longitude</th>\n",
       "      <th>latitude</th>\n",
       "      <th>housingMedianAge</th>\n",
       "      <th>totalRooms</th>\n",
       "      <th>totalBedrooms</th>\n",
       "      <th>population</th>\n",
       "      <th>households</th>\n",
       "      <th>medianIncome</th>\n",
       "      <th>medianHouseValue</th>\n",
       "    </tr>\n",
       "  </thead>\n",
       "  <tbody>\n",
       "    <tr>\n",
       "      <th>16995</th>\n",
       "      <td>-124.26</td>\n",
       "      <td>40.58</td>\n",
       "      <td>52</td>\n",
       "      <td>2217</td>\n",
       "      <td>394</td>\n",
       "      <td>907</td>\n",
       "      <td>369</td>\n",
       "      <td>2.3571</td>\n",
       "      <td>111400</td>\n",
       "    </tr>\n",
       "    <tr>\n",
       "      <th>16996</th>\n",
       "      <td>-124.27</td>\n",
       "      <td>40.69</td>\n",
       "      <td>36</td>\n",
       "      <td>2349</td>\n",
       "      <td>528</td>\n",
       "      <td>1194</td>\n",
       "      <td>465</td>\n",
       "      <td>2.5179</td>\n",
       "      <td>79000</td>\n",
       "    </tr>\n",
       "    <tr>\n",
       "      <th>16997</th>\n",
       "      <td>-124.30</td>\n",
       "      <td>41.84</td>\n",
       "      <td>17</td>\n",
       "      <td>2677</td>\n",
       "      <td>531</td>\n",
       "      <td>1244</td>\n",
       "      <td>456</td>\n",
       "      <td>3.0313</td>\n",
       "      <td>103600</td>\n",
       "    </tr>\n",
       "    <tr>\n",
       "      <th>16998</th>\n",
       "      <td>-124.30</td>\n",
       "      <td>41.80</td>\n",
       "      <td>19</td>\n",
       "      <td>2672</td>\n",
       "      <td>552</td>\n",
       "      <td>1298</td>\n",
       "      <td>478</td>\n",
       "      <td>1.9797</td>\n",
       "      <td>85800</td>\n",
       "    </tr>\n",
       "    <tr>\n",
       "      <th>16999</th>\n",
       "      <td>-124.35</td>\n",
       "      <td>40.54</td>\n",
       "      <td>52</td>\n",
       "      <td>1820</td>\n",
       "      <td>300</td>\n",
       "      <td>806</td>\n",
       "      <td>270</td>\n",
       "      <td>3.0147</td>\n",
       "      <td>94600</td>\n",
       "    </tr>\n",
       "  </tbody>\n",
       "</table>\n",
       "</div>"
      ],
      "text/plain": [
       "       longitude  latitude  housingMedianAge  totalRooms  totalBedrooms  \\\n",
       "16995    -124.26     40.58                52        2217            394   \n",
       "16996    -124.27     40.69                36        2349            528   \n",
       "16997    -124.30     41.84                17        2677            531   \n",
       "16998    -124.30     41.80                19        2672            552   \n",
       "16999    -124.35     40.54                52        1820            300   \n",
       "\n",
       "       population  households  medianIncome  medianHouseValue  \n",
       "16995         907         369        2.3571            111400  \n",
       "16996        1194         465        2.5179             79000  \n",
       "16997        1244         456        3.0313            103600  \n",
       "16998        1298         478        1.9797             85800  \n",
       "16999         806         270        3.0147             94600  "
      ]
     },
     "execution_count": 67,
     "metadata": {},
     "output_type": "execute_result"
    }
   ],
   "source": [
    "df.tail()"
   ]
  },
  {
   "cell_type": "code",
   "execution_count": 68,
   "metadata": {},
   "outputs": [
    {
     "data": {
      "text/html": [
       "<div>\n",
       "<style scoped>\n",
       "    .dataframe tbody tr th:only-of-type {\n",
       "        vertical-align: middle;\n",
       "    }\n",
       "\n",
       "    .dataframe tbody tr th {\n",
       "        vertical-align: top;\n",
       "    }\n",
       "\n",
       "    .dataframe thead th {\n",
       "        text-align: right;\n",
       "    }\n",
       "</style>\n",
       "<table border=\"1\" class=\"dataframe\">\n",
       "  <thead>\n",
       "    <tr style=\"text-align: right;\">\n",
       "      <th></th>\n",
       "      <th>longitude</th>\n",
       "      <th>latitude</th>\n",
       "      <th>housingMedianAge</th>\n",
       "      <th>totalRooms</th>\n",
       "      <th>totalBedrooms</th>\n",
       "      <th>population</th>\n",
       "      <th>households</th>\n",
       "      <th>medianIncome</th>\n",
       "      <th>medianHouseValue</th>\n",
       "    </tr>\n",
       "  </thead>\n",
       "  <tbody>\n",
       "    <tr>\n",
       "      <th>11696</th>\n",
       "      <td>-121.30</td>\n",
       "      <td>38.12</td>\n",
       "      <td>11</td>\n",
       "      <td>1792</td>\n",
       "      <td>252</td>\n",
       "      <td>767</td>\n",
       "      <td>263</td>\n",
       "      <td>7.6889</td>\n",
       "      <td>229300</td>\n",
       "    </tr>\n",
       "    <tr>\n",
       "      <th>14386</th>\n",
       "      <td>-122.12</td>\n",
       "      <td>39.91</td>\n",
       "      <td>16</td>\n",
       "      <td>4006</td>\n",
       "      <td>797</td>\n",
       "      <td>2028</td>\n",
       "      <td>752</td>\n",
       "      <td>2.3929</td>\n",
       "      <td>77200</td>\n",
       "    </tr>\n",
       "    <tr>\n",
       "      <th>7152</th>\n",
       "      <td>-118.32</td>\n",
       "      <td>33.80</td>\n",
       "      <td>29</td>\n",
       "      <td>3254</td>\n",
       "      <td>717</td>\n",
       "      <td>1593</td>\n",
       "      <td>680</td>\n",
       "      <td>4.0536</td>\n",
       "      <td>285800</td>\n",
       "    </tr>\n",
       "    <tr>\n",
       "      <th>9294</th>\n",
       "      <td>-119.14</td>\n",
       "      <td>35.76</td>\n",
       "      <td>30</td>\n",
       "      <td>735</td>\n",
       "      <td>137</td>\n",
       "      <td>421</td>\n",
       "      <td>113</td>\n",
       "      <td>2.5625</td>\n",
       "      <td>156300</td>\n",
       "    </tr>\n",
       "    <tr>\n",
       "      <th>9381</th>\n",
       "      <td>-119.20</td>\n",
       "      <td>34.26</td>\n",
       "      <td>13</td>\n",
       "      <td>3009</td>\n",
       "      <td>588</td>\n",
       "      <td>1439</td>\n",
       "      <td>607</td>\n",
       "      <td>4.1845</td>\n",
       "      <td>199500</td>\n",
       "    </tr>\n",
       "  </tbody>\n",
       "</table>\n",
       "</div>"
      ],
      "text/plain": [
       "       longitude  latitude  housingMedianAge  totalRooms  totalBedrooms  \\\n",
       "11696    -121.30     38.12                11        1792            252   \n",
       "14386    -122.12     39.91                16        4006            797   \n",
       "7152     -118.32     33.80                29        3254            717   \n",
       "9294     -119.14     35.76                30         735            137   \n",
       "9381     -119.20     34.26                13        3009            588   \n",
       "\n",
       "       population  households  medianIncome  medianHouseValue  \n",
       "11696         767         263        7.6889            229300  \n",
       "14386        2028         752        2.3929             77200  \n",
       "7152         1593         680        4.0536            285800  \n",
       "9294          421         113        2.5625            156300  \n",
       "9381         1439         607        4.1845            199500  "
      ]
     },
     "execution_count": 68,
     "metadata": {},
     "output_type": "execute_result"
    }
   ],
   "source": [
    "df.sample(5)"
   ]
  },
  {
   "cell_type": "code",
   "execution_count": 69,
   "metadata": {},
   "outputs": [
    {
     "data": {
      "text/html": [
       "<div>\n",
       "<style scoped>\n",
       "    .dataframe tbody tr th:only-of-type {\n",
       "        vertical-align: middle;\n",
       "    }\n",
       "\n",
       "    .dataframe tbody tr th {\n",
       "        vertical-align: top;\n",
       "    }\n",
       "\n",
       "    .dataframe thead th {\n",
       "        text-align: right;\n",
       "    }\n",
       "</style>\n",
       "<table border=\"1\" class=\"dataframe\">\n",
       "  <thead>\n",
       "    <tr style=\"text-align: right;\">\n",
       "      <th></th>\n",
       "      <th>longitude</th>\n",
       "      <th>latitude</th>\n",
       "      <th>housingMedianAge</th>\n",
       "      <th>totalRooms</th>\n",
       "      <th>totalBedrooms</th>\n",
       "      <th>population</th>\n",
       "      <th>households</th>\n",
       "      <th>medianIncome</th>\n",
       "      <th>medianHouseValue</th>\n",
       "    </tr>\n",
       "  </thead>\n",
       "  <tbody>\n",
       "    <tr>\n",
       "      <th>count</th>\n",
       "      <td>17000.000000</td>\n",
       "      <td>17000.000000</td>\n",
       "      <td>17000.000000</td>\n",
       "      <td>17000.000000</td>\n",
       "      <td>17000.000000</td>\n",
       "      <td>17000.000000</td>\n",
       "      <td>17000.000000</td>\n",
       "      <td>17000.000000</td>\n",
       "      <td>17000.000000</td>\n",
       "    </tr>\n",
       "    <tr>\n",
       "      <th>mean</th>\n",
       "      <td>-119.562108</td>\n",
       "      <td>35.625225</td>\n",
       "      <td>28.589353</td>\n",
       "      <td>2643.664412</td>\n",
       "      <td>539.410824</td>\n",
       "      <td>1429.573941</td>\n",
       "      <td>501.221941</td>\n",
       "      <td>3.883578</td>\n",
       "      <td>207300.912353</td>\n",
       "    </tr>\n",
       "    <tr>\n",
       "      <th>std</th>\n",
       "      <td>2.005166</td>\n",
       "      <td>2.137340</td>\n",
       "      <td>12.586937</td>\n",
       "      <td>2179.947071</td>\n",
       "      <td>421.499452</td>\n",
       "      <td>1147.852959</td>\n",
       "      <td>384.520841</td>\n",
       "      <td>1.908157</td>\n",
       "      <td>115983.764387</td>\n",
       "    </tr>\n",
       "    <tr>\n",
       "      <th>min</th>\n",
       "      <td>-124.350000</td>\n",
       "      <td>32.540000</td>\n",
       "      <td>1.000000</td>\n",
       "      <td>2.000000</td>\n",
       "      <td>1.000000</td>\n",
       "      <td>3.000000</td>\n",
       "      <td>1.000000</td>\n",
       "      <td>0.499900</td>\n",
       "      <td>14999.000000</td>\n",
       "    </tr>\n",
       "    <tr>\n",
       "      <th>25%</th>\n",
       "      <td>-121.790000</td>\n",
       "      <td>33.930000</td>\n",
       "      <td>18.000000</td>\n",
       "      <td>1462.000000</td>\n",
       "      <td>297.000000</td>\n",
       "      <td>790.000000</td>\n",
       "      <td>282.000000</td>\n",
       "      <td>2.566375</td>\n",
       "      <td>119400.000000</td>\n",
       "    </tr>\n",
       "    <tr>\n",
       "      <th>50%</th>\n",
       "      <td>-118.490000</td>\n",
       "      <td>34.250000</td>\n",
       "      <td>29.000000</td>\n",
       "      <td>2127.000000</td>\n",
       "      <td>434.000000</td>\n",
       "      <td>1167.000000</td>\n",
       "      <td>409.000000</td>\n",
       "      <td>3.544600</td>\n",
       "      <td>180400.000000</td>\n",
       "    </tr>\n",
       "    <tr>\n",
       "      <th>75%</th>\n",
       "      <td>-118.000000</td>\n",
       "      <td>37.720000</td>\n",
       "      <td>37.000000</td>\n",
       "      <td>3151.250000</td>\n",
       "      <td>648.250000</td>\n",
       "      <td>1721.000000</td>\n",
       "      <td>605.250000</td>\n",
       "      <td>4.767000</td>\n",
       "      <td>265000.000000</td>\n",
       "    </tr>\n",
       "    <tr>\n",
       "      <th>max</th>\n",
       "      <td>-114.310000</td>\n",
       "      <td>41.950000</td>\n",
       "      <td>52.000000</td>\n",
       "      <td>37937.000000</td>\n",
       "      <td>6445.000000</td>\n",
       "      <td>35682.000000</td>\n",
       "      <td>6082.000000</td>\n",
       "      <td>15.000100</td>\n",
       "      <td>500001.000000</td>\n",
       "    </tr>\n",
       "  </tbody>\n",
       "</table>\n",
       "</div>"
      ],
      "text/plain": [
       "          longitude      latitude  housingMedianAge    totalRooms  \\\n",
       "count  17000.000000  17000.000000      17000.000000  17000.000000   \n",
       "mean    -119.562108     35.625225         28.589353   2643.664412   \n",
       "std        2.005166      2.137340         12.586937   2179.947071   \n",
       "min     -124.350000     32.540000          1.000000      2.000000   \n",
       "25%     -121.790000     33.930000         18.000000   1462.000000   \n",
       "50%     -118.490000     34.250000         29.000000   2127.000000   \n",
       "75%     -118.000000     37.720000         37.000000   3151.250000   \n",
       "max     -114.310000     41.950000         52.000000  37937.000000   \n",
       "\n",
       "       totalBedrooms    population    households  medianIncome  \\\n",
       "count   17000.000000  17000.000000  17000.000000  17000.000000   \n",
       "mean      539.410824   1429.573941    501.221941      3.883578   \n",
       "std       421.499452   1147.852959    384.520841      1.908157   \n",
       "min         1.000000      3.000000      1.000000      0.499900   \n",
       "25%       297.000000    790.000000    282.000000      2.566375   \n",
       "50%       434.000000   1167.000000    409.000000      3.544600   \n",
       "75%       648.250000   1721.000000    605.250000      4.767000   \n",
       "max      6445.000000  35682.000000   6082.000000     15.000100   \n",
       "\n",
       "       medianHouseValue  \n",
       "count      17000.000000  \n",
       "mean      207300.912353  \n",
       "std       115983.764387  \n",
       "min        14999.000000  \n",
       "25%       119400.000000  \n",
       "50%       180400.000000  \n",
       "75%       265000.000000  \n",
       "max       500001.000000  "
      ]
     },
     "execution_count": 69,
     "metadata": {},
     "output_type": "execute_result"
    }
   ],
   "source": [
    "df.describe()"
   ]
  },
  {
   "cell_type": "code",
   "execution_count": 70,
   "metadata": {},
   "outputs": [
    {
     "data": {
      "text/plain": [
       "longitude           float64\n",
       "latitude            float64\n",
       "housingMedianAge      int64\n",
       "totalRooms            int64\n",
       "totalBedrooms         int64\n",
       "population            int64\n",
       "households            int64\n",
       "medianIncome        float64\n",
       "medianHouseValue      int64\n",
       "dtype: object"
      ]
     },
     "execution_count": 70,
     "metadata": {},
     "output_type": "execute_result"
    }
   ],
   "source": [
    "df.dtypes"
   ]
  },
  {
   "cell_type": "code",
   "execution_count": 71,
   "metadata": {},
   "outputs": [
    {
     "data": {
      "text/plain": [
       "0        False\n",
       "1        False\n",
       "2        False\n",
       "3        False\n",
       "4        False\n",
       "         ...  \n",
       "16995     True\n",
       "16996    False\n",
       "16997    False\n",
       "16998    False\n",
       "16999     True\n",
       "Name: housingMedianAge, Length: 17000, dtype: bool"
      ]
     },
     "execution_count": 71,
     "metadata": {},
     "output_type": "execute_result"
    }
   ],
   "source": [
    "df['housingMedianAge']>50"
   ]
  },
  {
   "cell_type": "code",
   "execution_count": 72,
   "metadata": {},
   "outputs": [
    {
     "data": {
      "text/plain": [
       "(1084, 9)"
      ]
     },
     "execution_count": 72,
     "metadata": {},
     "output_type": "execute_result"
    }
   ],
   "source": [
    "df[df['housingMedianAge']>50].shape"
   ]
  },
  {
   "cell_type": "code",
   "execution_count": 73,
   "metadata": {},
   "outputs": [
    {
     "name": "stderr",
     "output_type": "stream",
     "text": [
      "C:\\Users\\Rakib\\AppData\\Local\\Temp\\ipykernel_6224\\109957253.py:1: FutureWarning: ChainedAssignmentError: behaviour will change in pandas 3.0!\n",
      "You are setting values through chained assignment. Currently this works in certain cases, but when using Copy-on-Write (which will become the default behaviour in pandas 3.0) this will never work to update the original DataFrame or Series, because the intermediate object on which we are setting values will behave as a copy.\n",
      "A typical example is when you are setting values in a column of a DataFrame, like:\n",
      "\n",
      "df[\"col\"][row_indexer] = value\n",
      "\n",
      "Use `df.loc[row_indexer, \"col\"] = values` instead, to perform the assignment in a single step and ensure this keeps updating the original `df`.\n",
      "\n",
      "See the caveats in the documentation: https://pandas.pydata.org/pandas-docs/stable/user_guide/indexing.html#returning-a-view-versus-a-copy\n",
      "\n",
      "  df['housingMedianAge'][100]=None\n",
      "C:\\Users\\Rakib\\AppData\\Local\\Temp\\ipykernel_6224\\109957253.py:1: SettingWithCopyWarning: \n",
      "A value is trying to be set on a copy of a slice from a DataFrame\n",
      "\n",
      "See the caveats in the documentation: https://pandas.pydata.org/pandas-docs/stable/user_guide/indexing.html#returning-a-view-versus-a-copy\n",
      "  df['housingMedianAge'][100]=None\n"
     ]
    }
   ],
   "source": [
    "df['housingMedianAge'][100]=None"
   ]
  },
  {
   "cell_type": "code",
   "execution_count": 74,
   "metadata": {},
   "outputs": [
    {
     "data": {
      "text/plain": [
       "(1, 9)"
      ]
     },
     "execution_count": 74,
     "metadata": {},
     "output_type": "execute_result"
    }
   ],
   "source": [
    "df[df['housingMedianAge'].isnull()].shape"
   ]
  },
  {
   "cell_type": "code",
   "execution_count": 75,
   "metadata": {},
   "outputs": [
    {
     "name": "stdout",
     "output_type": "stream",
     "text": [
      "Missing values per column:\n",
      " longitude           0\n",
      "latitude            0\n",
      "housingMedianAge    1\n",
      "totalRooms          0\n",
      "totalBedrooms       0\n",
      "population          0\n",
      "households          0\n",
      "medianIncome        0\n",
      "medianHouseValue    0\n",
      "dtype: int64\n"
     ]
    }
   ],
   "source": [
    "missing_values = df.isnull().sum()\n",
    "print(\"Missing values per column:\\n\", missing_values)"
   ]
  },
  {
   "cell_type": "code",
   "execution_count": 76,
   "metadata": {},
   "outputs": [],
   "source": [
    "# Save DataFrame to CSV\n",
    "df.to_csv('example.csv', index=False)"
   ]
  },
  {
   "cell_type": "code",
   "execution_count": 77,
   "metadata": {},
   "outputs": [
    {
     "name": "stdout",
     "output_type": "stream",
     "text": [
      "       longitude  latitude  housingMedianAge  totalRooms  totalBedrooms  \\\n",
      "0        -114.31     34.19              15.0        5612           1283   \n",
      "1        -114.47     34.40              19.0        7650           1901   \n",
      "2        -114.56     33.69              17.0         720            174   \n",
      "3        -114.57     33.64              14.0        1501            337   \n",
      "4        -114.57     33.57              20.0        1454            326   \n",
      "...          ...       ...               ...         ...            ...   \n",
      "16995    -124.26     40.58              52.0        2217            394   \n",
      "16996    -124.27     40.69              36.0        2349            528   \n",
      "16997    -124.30     41.84              17.0        2677            531   \n",
      "16998    -124.30     41.80              19.0        2672            552   \n",
      "16999    -124.35     40.54              52.0        1820            300   \n",
      "\n",
      "       population  households  medianIncome  medianHouseValue  \n",
      "0            1015         472        1.4936             66900  \n",
      "1            1129         463        1.8200             80100  \n",
      "2             333         117        1.6509             85700  \n",
      "3             515         226        3.1917             73400  \n",
      "4             624         262        1.9250             65500  \n",
      "...           ...         ...           ...               ...  \n",
      "16995         907         369        2.3571            111400  \n",
      "16996        1194         465        2.5179             79000  \n",
      "16997        1244         456        3.0313            103600  \n",
      "16998        1298         478        1.9797             85800  \n",
      "16999         806         270        3.0147             94600  \n",
      "\n",
      "[17000 rows x 9 columns]\n"
     ]
    }
   ],
   "source": [
    "#LOADING DATA\n",
    "df=pd.read_csv('example.csv')\n",
    "print(df)"
   ]
  },
  {
   "cell_type": "code",
   "execution_count": 78,
   "metadata": {},
   "outputs": [
    {
     "name": "stdout",
     "output_type": "stream",
     "text": [
      "0    d\n",
      "1    a\n",
      "2    c\n",
      "3    a\n",
      "4    a\n",
      "5    b\n",
      "6    b\n",
      "7    d\n",
      "8    d\n",
      "dtype: object\n"
     ]
    }
   ],
   "source": [
    "data=['d','a','c','a','a','b','b','d','d']\n",
    "series=pd.Series(data)\n",
    "print(series)"
   ]
  },
  {
   "cell_type": "code",
   "execution_count": 79,
   "metadata": {},
   "outputs": [
    {
     "name": "stdout",
     "output_type": "stream",
     "text": [
      "d    3\n",
      "a    3\n",
      "b    2\n",
      "c    1\n",
      "Name: count, dtype: int64\n"
     ]
    }
   ],
   "source": [
    "fre=series.value_counts()\n",
    "print(fre)"
   ]
  },
  {
   "cell_type": "code",
   "execution_count": 80,
   "metadata": {},
   "outputs": [
    {
     "name": "stdout",
     "output_type": "stream",
     "text": [
      "['d' 'a' 'c' 'b']\n"
     ]
    }
   ],
   "source": [
    "print(series.unique())"
   ]
  },
  {
   "cell_type": "code",
   "execution_count": null,
   "metadata": {},
   "outputs": [],
   "source": []
  }
 ],
 "metadata": {
  "kernelspec": {
   "display_name": "Python 3",
   "language": "python",
   "name": "python3"
  },
  "language_info": {
   "codemirror_mode": {
    "name": "ipython",
    "version": 3
   },
   "file_extension": ".py",
   "mimetype": "text/x-python",
   "name": "python",
   "nbconvert_exporter": "python",
   "pygments_lexer": "ipython3",
   "version": "3.11.9"
  }
 },
 "nbformat": 4,
 "nbformat_minor": 2
}
