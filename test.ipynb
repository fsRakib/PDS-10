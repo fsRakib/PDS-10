{
 "cells": [
  {
   "cell_type": "code",
   "execution_count": 66,
   "metadata": {},
   "outputs": [],
   "source": [
    "import csv"
   ]
  },
  {
   "cell_type": "code",
   "execution_count": 67,
   "metadata": {},
   "outputs": [],
   "source": [
    "attendance_list = []"
   ]
  },
  {
   "cell_type": "code",
   "execution_count": 68,
   "metadata": {},
   "outputs": [],
   "source": [
    "with open('R:\\\\PDS-10\\\\attendance.csv', 'r') as f:\n",
    "    file_data = csv.reader(f)\n",
    "    for row in file_data:\n",
    "        attendance_list.append(row)"
   ]
  },
  {
   "cell_type": "markdown",
   "metadata": {},
   "source": []
  },
  {
   "cell_type": "code",
   "execution_count": 69,
   "metadata": {},
   "outputs": [],
   "source": [
    "present_count=0\n",
    "absent_count=0\n",
    "\n",
    "for row in attendance_list:\n",
    "    if row[0]=='E012' and row[2]==\"Absent\":\n",
    "        absent_count+=1\n",
    "    elif row[0]=='E012' and row[2]==\"Present\":\n",
    "        present_count+=1"
   ]
  },
  {
   "cell_type": "code",
   "execution_count": 70,
   "metadata": {},
   "outputs": [
    {
     "data": {
      "text/plain": [
       "(7, 1)"
      ]
     },
     "execution_count": 70,
     "metadata": {},
     "output_type": "execute_result"
    }
   ],
   "source": [
    "present_count,absent_count"
   ]
  },
  {
   "cell_type": "code",
   "execution_count": 71,
   "metadata": {},
   "outputs": [
    {
     "data": {
      "text/plain": [
       "[['E007', '2025-04-09', 'Absent'],\n",
       " ['E020', '2025-02-13', 'Present'],\n",
       " ['E015', '2025-03-27', 'Present'],\n",
       " ['E011', '2025-04-01', 'Present']]"
      ]
     },
     "execution_count": 71,
     "metadata": {},
     "output_type": "execute_result"
    }
   ],
   "source": [
    "attendance_list[1:5]"
   ]
  },
  {
   "cell_type": "code",
   "execution_count": 72,
   "metadata": {},
   "outputs": [],
   "source": [
    "emp_attendance = {}\n",
    "index = 0\n",
    "for row in attendance_list:\n",
    "    if index==0:\n",
    "        index+=1\n",
    "        continue\n",
    "    if row[0] in emp_attendance.keys():\n",
    "        if row[2]==\"Present\":\n",
    "            emp_attendance[row[0]]+=1\n",
    "    else:\n",
    "        emp_attendance[row[0]]=1"
   ]
  },
  {
   "cell_type": "code",
   "execution_count": null,
   "metadata": {},
   "outputs": [],
   "source": [
    "for key,value in emp_attendance.items():\n",
    "    print(f\"Emp_ID: {key}, Attendence: {value}\")"
   ]
  },
  {
   "cell_type": "code",
   "execution_count": 81,
   "metadata": {},
   "outputs": [
    {
     "data": {
      "text/plain": [
       "dict_keys(['E007', 'E020', 'E015', 'E011', 'E008', 'E019', 'E004', 'E003', 'E002', 'E012', 'E006', 'E001', 'E017', 'E010', 'E016', 'E005', 'E009', 'E018', 'E014', 'E013'])"
      ]
     },
     "execution_count": 81,
     "metadata": {},
     "output_type": "execute_result"
    }
   ],
   "source": [
    "emp_attendance.keys()"
   ]
  },
  {
   "cell_type": "code",
   "execution_count": 83,
   "metadata": {},
   "outputs": [
    {
     "data": {
      "text/plain": [
       "True"
      ]
     },
     "execution_count": 83,
     "metadata": {},
     "output_type": "execute_result"
    }
   ],
   "source": [
    "\"E007\" in emp_attendance.keys()"
   ]
  },
  {
   "cell_type": "code",
   "execution_count": 84,
   "metadata": {},
   "outputs": [
    {
     "data": {
      "text/plain": [
       "7"
      ]
     },
     "execution_count": 84,
     "metadata": {},
     "output_type": "execute_result"
    }
   ],
   "source": [
    "emp_attendance[\"E007\"]"
   ]
  }
 ],
 "metadata": {
  "kernelspec": {
   "display_name": "Python 3",
   "language": "python",
   "name": "python3"
  },
  "language_info": {
   "codemirror_mode": {
    "name": "ipython",
    "version": 3
   },
   "file_extension": ".py",
   "mimetype": "text/x-python",
   "name": "python",
   "nbconvert_exporter": "python",
   "pygments_lexer": "ipython3",
   "version": "3.11.9"
  }
 },
 "nbformat": 4,
 "nbformat_minor": 2
}
